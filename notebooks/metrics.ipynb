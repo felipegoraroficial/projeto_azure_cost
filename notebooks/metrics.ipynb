{
 "cells": [
  {
   "cell_type": "code",
   "execution_count": 8,
   "id": "0c8e6d87",
   "metadata": {},
   "outputs": [],
   "source": [
    "import os\n",
    "from pyspark.sql import SparkSession\n",
    "\n",
    "# Informações de conexão com o PostgreSQL\n",
    "DB_HOST = \"airflow-postgres\"\n",
    "DB_PORT = \"5432\"\n",
    "DB_USER = os.getenv('POSTGRES_USER')\n",
    "DB_PASSWORD = os.getenv('POSTGRES_PASSWORD')\n",
    "DB_NAME = \"azurecost\"\n",
    "\n",
    "# Inicializa a SparkSession normalmente\n",
    "spark = SparkSession.builder.getOrCreate()\n",
    "\n",
    "jdbc_url = f\"jdbc:postgresql://{DB_HOST}:{DB_PORT}/{DB_NAME}\""
   ]
  },
  {
   "cell_type": "code",
   "execution_count": 9,
   "id": "12565e40",
   "metadata": {},
   "outputs": [],
   "source": [
    "table_name = \"resources\"\n",
    "\n",
    "df_resources = spark.read \\\n",
    "  .format(\"jdbc\") \\\n",
    "  .option(\"url\", jdbc_url) \\\n",
    "  .option(\"dbtable\", table_name) \\\n",
    "  .option(\"user\", DB_USER) \\\n",
    "  .option(\"password\", DB_PASSWORD) \\\n",
    "  .option(\"driver\", \"org.postgresql.Driver\") \\\n",
    "  .load()"
   ]
  },
  {
   "cell_type": "code",
   "execution_count": 10,
   "id": "53b4de7a",
   "metadata": {},
   "outputs": [
    {
     "name": "stdout",
     "output_type": "stream",
     "text": [
      "+---+----------------------+------------------------------------+-------------------------------------+-----------------+--------------+--------+--------------+\n",
      "|id |resourcename          |subscriptionid                      |resourcegroup                        |provider         |statusrecourse|currency|tendenciacusto|\n",
      "+---+----------------------+------------------------------------+-------------------------------------+-----------------+--------------+--------+--------------+\n",
      "|1  |appfunckabum          |da483b95-1caf-404c-bfe4-36abef87f6e6|nintendoproject                      |microsoft.web    |Ativo         |BRL     |Estável       |\n",
      "|2  |appfuncmagalu         |da483b95-1caf-404c-bfe4-36abef87f6e6|nintendoproject                      |microsoft.web    |Ativo         |BRL     |Estável       |\n",
      "|3  |dbstorage7ifgyhjijpdgi|da483b95-1caf-404c-bfe4-36abef87f6e6|nintendodatabrickswi86no-workspace-rg|microsoft.storage|Ativo         |BRL     |Estável       |\n",
      "|4  |nintendoservplan      |da483b95-1caf-404c-bfe4-36abef87f6e6|nintendoproject                      |microsoft.web    |Ativo         |BRL     |Estável       |\n",
      "|5  |nintendostorageaccount|da483b95-1caf-404c-bfe4-36abef87f6e6|nintendoproject                      |microsoft.storage|Ativo         |BRL     |Estável       |\n",
      "+---+----------------------+------------------------------------+-------------------------------------+-----------------+--------------+--------+--------------+\n",
      "\n"
     ]
    }
   ],
   "source": [
    "df_resources.show(truncate=False)"
   ]
  },
  {
   "cell_type": "code",
   "execution_count": 11,
   "id": "913a4a19",
   "metadata": {},
   "outputs": [],
   "source": [
    "table_name = \"costresources\"\n",
    "\n",
    "df_cost = spark.read \\\n",
    "  .format(\"jdbc\") \\\n",
    "  .option(\"url\", jdbc_url) \\\n",
    "  .option(\"dbtable\", table_name) \\\n",
    "  .option(\"user\", DB_USER) \\\n",
    "  .option(\"password\", DB_PASSWORD) \\\n",
    "  .option(\"driver\", \"org.postgresql.Driver\") \\\n",
    "  .load()"
   ]
  },
  {
   "cell_type": "code",
   "execution_count": 12,
   "id": "46d8cf73",
   "metadata": {},
   "outputs": [
    {
     "name": "stdout",
     "output_type": "stream",
     "text": [
      "+---+----------------+----------+----------------+-------------------+\n",
      "|id |pretaxcost      |pct_change|previsaoproxima |usagedate          |\n",
      "+---+----------------+----------+----------------+-------------------+\n",
      "|1  |0.0             |0.0       |0.0             |2025-08-01 18:00:00|\n",
      "|1  |0.0             |0.0       |0.0             |2025-08-01 17:55:00|\n",
      "|1  |0.0             |0.0       |0.0             |2025-08-01 17:50:00|\n",
      "|1  |0.0             |0.0       |0.0             |2025-08-01 17:45:00|\n",
      "|4  |1.38148335      |0.0       |1.38148335      |2025-08-01 18:00:00|\n",
      "|4  |1.38148335      |0.0       |1.38148335      |2025-08-01 17:55:00|\n",
      "|4  |1.38148335      |0.0       |1.38148335      |2025-08-01 17:50:00|\n",
      "|4  |1.38148335      |0.0       |1.38148335      |2025-08-01 17:45:00|\n",
      "|3  |0.00340925033916|0.0       |0.00340925033916|2025-08-01 18:00:00|\n",
      "|3  |0.00340925033916|0.0       |0.00340925033916|2025-08-01 17:55:00|\n",
      "|3  |0.00340925033916|0.0       |0.00340925033916|2025-08-01 17:50:00|\n",
      "|3  |0.00340925033916|0.0       |0.00340925033916|2025-08-01 17:45:00|\n",
      "|5  |0.039043515996  |0.0       |0.039043515996  |2025-08-01 18:00:00|\n",
      "|5  |0.039043515996  |0.0       |0.039043515996  |2025-08-01 17:55:00|\n",
      "|5  |0.039043515996  |0.0       |0.039043515996  |2025-08-01 17:50:00|\n",
      "|5  |0.039043515996  |0.0       |0.039043515996  |2025-08-01 17:45:00|\n",
      "|2  |0.0             |0.0       |0.0             |2025-08-01 18:00:00|\n",
      "|2  |0.0             |0.0       |0.0             |2025-08-01 17:55:00|\n",
      "|2  |0.0             |0.0       |0.0             |2025-08-01 17:50:00|\n",
      "|2  |0.0             |0.0       |0.0             |2025-08-01 17:45:00|\n",
      "+---+----------------+----------+----------------+-------------------+\n",
      "\n"
     ]
    }
   ],
   "source": [
    "df_cost.show(truncate=False)"
   ]
  },
  {
   "cell_type": "code",
   "execution_count": 13,
   "id": "a711996f",
   "metadata": {},
   "outputs": [],
   "source": [
    "df_cost.createOrReplaceTempView(\"tabela_cost\")\n",
    "df_resources.createOrReplaceTempView(\"tabela_resources\")"
   ]
  },
  {
   "cell_type": "code",
   "execution_count": 14,
   "id": "262cb645",
   "metadata": {},
   "outputs": [
    {
     "name": "stdout",
     "output_type": "stream",
     "text": [
      "+-------------------------------------+------------------+\n",
      "|ResourceGroup                        |Total_PreTaxCost  |\n",
      "+-------------------------------------+------------------+\n",
      "|nintendodatabrickswi86no-workspace-rg|0.00340925033916  |\n",
      "|nintendoproject                      |1.4205268659960002|\n",
      "+-------------------------------------+------------------+\n",
      "\n"
     ]
    }
   ],
   "source": [
    "creatview_resourcegroup_totals = spark.sql(\"\"\"\n",
    "WITH last_per_day AS (\n",
    "  SELECT Id, PreTaxCost, UsageDate\n",
    "  FROM (\n",
    "      SELECT *,\n",
    "             ROW_NUMBER() OVER (\n",
    "                 PARTITION BY Id, DATE(UsageDate)\n",
    "                 ORDER BY UsageDate DESC\n",
    "             ) as rn\n",
    "      FROM tabela_cost\n",
    "  ) t\n",
    "  WHERE rn = 1\n",
    ")\n",
    "\n",
    "SELECT r.ResourceGroup, SUM(l.PreTaxCost) as Total_PreTaxCost\n",
    "FROM last_per_day l\n",
    "LEFT JOIN tabela_resources r\n",
    "  ON l.Id = r.Id\n",
    "GROUP BY r.ResourceGroup\n",
    "ORDER BY r.ResourceGroup\n",
    "\"\"\")\n",
    "\n",
    "creatview_resourcegroup_totals.show(truncate=False)"
   ]
  },
  {
   "cell_type": "code",
   "execution_count": 22,
   "id": "a6bf59b2",
   "metadata": {},
   "outputs": [
    {
     "name": "stdout",
     "output_type": "stream",
     "text": [
      "+----------------------+----------------+\n",
      "|ResourceName          |Total_PreTaxCost|\n",
      "+----------------------+----------------+\n",
      "|appfunckabum          |0.0             |\n",
      "|appfuncmagalu         |0.0             |\n",
      "|dbstorage7ifgyhjijpdgi|0.00340925033916|\n",
      "|nintendoservplan      |1.38148335      |\n",
      "|nintendostorageaccount|0.039043515996  |\n",
      "+----------------------+----------------+\n",
      "\n"
     ]
    }
   ],
   "source": [
    "creatview_resourcename_totals = spark.sql(\"\"\"\n",
    "WITH last_per_day AS (\n",
    "  SELECT Id, PreTaxCost, UsageDate\n",
    "  FROM (\n",
    "      SELECT *,\n",
    "             ROW_NUMBER() OVER (\n",
    "                 PARTITION BY Id, DATE(UsageDate)\n",
    "                 ORDER BY UsageDate DESC\n",
    "             ) as rn\n",
    "      FROM tabela_cost\n",
    "  ) t\n",
    "  WHERE rn = 1\n",
    ")\n",
    "\n",
    "SELECT r.ResourceName, SUM(l.PreTaxCost) as Total_PreTaxCost\n",
    "FROM last_per_day l\n",
    "LEFT JOIN tabela_resources r\n",
    "  ON l.Id = r.Id\n",
    "GROUP BY r.ResourceName\n",
    "ORDER BY r.ResourceName\n",
    "\"\"\")\n",
    "\n",
    "creatview_resourcename_totals.show(truncate=False)"
   ]
  },
  {
   "cell_type": "code",
   "execution_count": 21,
   "id": "9b36bfad",
   "metadata": {},
   "outputs": [
    {
     "name": "stdout",
     "output_type": "stream",
     "text": [
      "+----------+------------------+\n",
      "|usagedate |pretaxcost_sum    |\n",
      "+----------+------------------+\n",
      "|2025-08-01|1.4239361163351603|\n",
      "+----------+------------------+\n",
      "\n"
     ]
    }
   ],
   "source": [
    "creatview_cost_by_date = spark.sql(\"\"\"\n",
    "WITH max_usagedate_per_day AS (\n",
    "  SELECT\n",
    "    to_date(usagedate) AS day,\n",
    "    MAX(usagedate) AS max_usagedate\n",
    "  FROM\n",
    "    tabela_cost\n",
    "  GROUP BY\n",
    "    to_date(usagedate)\n",
    "),\n",
    "filtered AS (\n",
    "  SELECT\n",
    "    usagedate,\n",
    "    pretaxcost\n",
    "  FROM\n",
    "    tabela_cost t\n",
    "  INNER JOIN\n",
    "    max_usagedate_per_day m\n",
    "  ON\n",
    "    to_date(t.usagedate) = m.day AND t.usagedate = m.max_usagedate\n",
    ")\n",
    "SELECT\n",
    "  to_date(usagedate) AS usagedate,\n",
    "  SUM(pretaxcost) AS pretaxcost_sum\n",
    "FROM\n",
    "  filtered\n",
    "GROUP BY\n",
    "  to_date(usagedate)\n",
    "ORDER BY\n",
    "  usagedate\n",
    "\"\"\")\n",
    "creatview_cost_by_date.show(truncate=False)"
   ]
  },
  {
   "cell_type": "code",
   "execution_count": null,
   "id": "9523fa0b",
   "metadata": {},
   "outputs": [
    {
     "name": "stdout",
     "output_type": "stream",
     "text": [
      "+----------------------+--------------+----------+--------------+----------------+\n",
      "|resourcename          |statusrecourse|pct_change|tendenciacusto|previsaoproxima |\n",
      "+----------------------+--------------+----------+--------------+----------------+\n",
      "|appfunckabum          |Ativo         |0.0       |Estável       |0.0             |\n",
      "|dbstorage7ifgyhjijpdgi|Ativo         |0.0       |Estável       |0.00340925033916|\n",
      "|nintendostorageaccount|Ativo         |0.0       |Estável       |0.039043515996  |\n",
      "|nintendoservplan      |Ativo         |0.0       |Estável       |1.38148335      |\n",
      "|appfuncmagalu         |Ativo         |0.0       |Estável       |0.0             |\n",
      "+----------------------+--------------+----------+--------------+----------------+\n",
      "\n"
     ]
    }
   ],
   "source": [
    "information = spark.sql(\"\"\"\n",
    "WITH max_usagedate_per_id AS (\n",
    "  SELECT\n",
    "    id,\n",
    "    MAX(usagedate) AS max_usagedate\n",
    "  FROM\n",
    "    tabela_cost\n",
    "  GROUP BY\n",
    "    id\n",
    "),\n",
    "tabela_cost_filtered AS (\n",
    "  SELECT t2.*\n",
    "  FROM tabela_cost t2\n",
    "  INNER JOIN max_usagedate_per_id m\n",
    "    ON t2.id = m.id AND t2.usagedate = m.max_usagedate\n",
    ")\n",
    "SELECT\n",
    "  t1.resourcename,\n",
    "  t1.statusrecourse,\n",
    "  t2f.pct_change,\n",
    "  t1.tendenciacusto,\n",
    "  t2f.previsaoproxima\n",
    "FROM\n",
    "  tabela_resources t1\n",
    "LEFT JOIN\n",
    "  tabela_cost_filtered t2f\n",
    "ON\n",
    "  t1.id = t2f.id\n",
    "\"\"\")\n",
    "\n",
    "information.show(truncate=False)\n"
   ]
  }
 ],
 "metadata": {
  "kernelspec": {
   "display_name": "Python 3 (ipykernel)",
   "language": "python",
   "name": "python3"
  }
 },
 "nbformat": 4,
 "nbformat_minor": 5
}
