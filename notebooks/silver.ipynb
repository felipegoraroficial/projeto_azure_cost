{
 "cells": [
  {
   "cell_type": "code",
   "execution_count": 1,
   "id": "9f7d9b3a",
   "metadata": {},
   "outputs": [],
   "source": [
    "from pyspark.sql import SparkSession\n",
    "from pyspark.sql.functions import col, to_timestamp, to_date, regexp_extract, max, date_add, lit, lag, when, round\n",
    "from pyspark.sql import Window\n",
    "from delta.tables import DeltaTable\n",
    "import os\n",
    "\n",
    "DELTA_LAKE_PACKAGE = \"io.delta:delta-core_2.12:3.3.2\"\n",
    "\n",
    "spark = SparkSession.builder \\\n",
    "    .appName(\"PySpark Delta Lake MinIO Save\") \\\n",
    "    .config(\"spark.sql.extensions\", \"io.delta.sql.DeltaSparkSessionExtension\") \\\n",
    "    .config(\"spark.sql.catalog.spark_catalog\", \"org.apache.spark.sql.delta.catalog.DeltaCatalog\") \\\n",
    "    .config(\"spark.hadoop.fs.s3a.endpoint\", \"http://minio:9000\") \\\n",
    "    .config(\"spark.hadoop.fs.s3a.access.key\", os.getenv(\"KEY_ACCESS\")) \\\n",
    "    .config(\"spark.hadoop.fs.s3a.secret.key\", os.getenv(\"KEY_SECRETS\")) \\\n",
    "    .config(\"spark.hadoop.fs.s3a.path.style.access\", \"true\") \\\n",
    "    .config(\"spark.hadoop.fs.s3a.impl\", \"org.apache.hadoop.fs.s3a.S3AFileSystem\") \\\n",
    "    .config(\"spark.hadoop.fs.s3a.aws.credentials.provider\", \"org.apache.hadoop.fs.s3a.SimpleAWSCredentialsProvider\") \\\n",
    "    .getOrCreate()"
   ]
  },
  {
   "cell_type": "code",
   "execution_count": 2,
   "id": "6e95cdca",
   "metadata": {},
   "outputs": [
    {
     "name": "stdout",
     "output_type": "stream",
     "text": [
      "Última partição disponível: 2025-07-18\n"
     ]
    }
   ],
   "source": [
    "# Caminho para a tabela Delta (no seu MinIO)\n",
    "bronze_path = \"s3a://azurecost/bronze\"\n",
    "\n",
    "# Inicializa objeto DeltaTable\n",
    "delta_table = DeltaTable.forPath(spark, bronze_path)\n",
    "\n",
    "# Obtém todos os valores únicos da partição\n",
    "partitions_df = delta_table.toDF().select(\"data_ref\").distinct()\n",
    "\n",
    "# Obtém o valor mais recente da partição\n",
    "max_partition = partitions_df.agg({\"data_ref\": \"max\"}).collect()[0][0]\n",
    "print(f\"Última partição disponível: {max_partition}\")"
   ]
  },
  {
   "cell_type": "code",
   "execution_count": 3,
   "id": "481b406b",
   "metadata": {},
   "outputs": [
    {
     "name": "stdout",
     "output_type": "stream",
     "text": [
      "+--------+-------------------+-------------------------------------+---------------------------------------------------------------------------------------------------------------------------------------------------------------------------+----------------+----------+\n",
      "|Currency|PreTaxCost         |ResourceGroup                        |ResourceId                                                                                                                                                                 |UsageDate       |data_ref  |\n",
      "+--------+-------------------+-------------------------------------+---------------------------------------------------------------------------------------------------------------------------------------------------------------------------+----------------+----------+\n",
      "|BRL     |0.00505974160620001|nintendodatabrickswi86no-workspace-rg|/subscriptions/da483b95-1caf-404c-bfe4-36abef87f6e6/resourcegroups/nintendodatabrickswi86no-workspace-rg/providers/microsoft.storage/storageaccounts/dbstorage7ifgyhjijpdgi|2025-07-18T16:57|2025-07-18|\n",
      "|BRL     |0.00505974160620001|nintendodatabrickswi86no-workspace-rg|/subscriptions/da483b95-1caf-404c-bfe4-36abef87f6e6/resourcegroups/nintendodatabrickswi86no-workspace-rg/providers/microsoft.storage/storageaccounts/dbstorage7ifgyhjijpdgi|2025-07-18T17:00|2025-07-18|\n",
      "|BRL     |0.00505974160620001|nintendodatabrickswi86no-workspace-rg|/subscriptions/da483b95-1caf-404c-bfe4-36abef87f6e6/resourcegroups/nintendodatabrickswi86no-workspace-rg/providers/microsoft.storage/storageaccounts/dbstorage7ifgyhjijpdgi|2025-07-18T17:05|2025-07-18|\n",
      "|BRL     |0.00505974160620001|nintendodatabrickswi86no-workspace-rg|/subscriptions/da483b95-1caf-404c-bfe4-36abef87f6e6/resourcegroups/nintendodatabrickswi86no-workspace-rg/providers/microsoft.storage/storageaccounts/dbstorage7ifgyhjijpdgi|2025-07-18T17:10|2025-07-18|\n",
      "|BRL     |0.00505974160620001|nintendodatabrickswi86no-workspace-rg|/subscriptions/da483b95-1caf-404c-bfe4-36abef87f6e6/resourcegroups/nintendodatabrickswi86no-workspace-rg/providers/microsoft.storage/storageaccounts/dbstorage7ifgyhjijpdgi|2025-07-18T17:15|2025-07-18|\n",
      "|BRL     |0.00505974160620001|nintendodatabrickswi86no-workspace-rg|/subscriptions/da483b95-1caf-404c-bfe4-36abef87f6e6/resourcegroups/nintendodatabrickswi86no-workspace-rg/providers/microsoft.storage/storageaccounts/dbstorage7ifgyhjijpdgi|2025-07-18T17:20|2025-07-18|\n",
      "|BRL     |0.00505974160620001|nintendodatabrickswi86no-workspace-rg|/subscriptions/da483b95-1caf-404c-bfe4-36abef87f6e6/resourcegroups/nintendodatabrickswi86no-workspace-rg/providers/microsoft.storage/storageaccounts/dbstorage7ifgyhjijpdgi|2025-07-18T17:25|2025-07-18|\n",
      "|BRL     |0.0                |nintendoproject                      |/subscriptions/da483b95-1caf-404c-bfe4-36abef87f6e6/resourcegroups/nintendoproject/providers/microsoft.web/sites/appfuncmagalu                                             |2025-07-18T17:05|2025-07-18|\n",
      "|BRL     |0.0                |nintendoproject                      |/subscriptions/da483b95-1caf-404c-bfe4-36abef87f6e6/resourcegroups/nintendoproject/providers/microsoft.web/sites/appfuncmagalu                                             |2025-07-18T17:10|2025-07-18|\n",
      "|BRL     |0.0                |nintendoproject                      |/subscriptions/da483b95-1caf-404c-bfe4-36abef87f6e6/resourcegroups/nintendoproject/providers/microsoft.web/sites/appfuncmagalu                                             |2025-07-18T17:15|2025-07-18|\n",
      "|BRL     |0.0                |nintendoproject                      |/subscriptions/da483b95-1caf-404c-bfe4-36abef87f6e6/resourcegroups/nintendoproject/providers/microsoft.web/sites/appfuncmagalu                                             |2025-07-18T17:20|2025-07-18|\n",
      "|BRL     |0.0                |nintendoproject                      |/subscriptions/da483b95-1caf-404c-bfe4-36abef87f6e6/resourcegroups/nintendoproject/providers/microsoft.web/sites/appfuncmagalu                                             |2025-07-18T17:25|2025-07-18|\n",
      "|BRL     |0.0                |nintendoproject                      |/subscriptions/da483b95-1caf-404c-bfe4-36abef87f6e6/resourcegroups/nintendoproject/providers/microsoft.web/sites/appfuncmagalu                                             |2025-07-18T17:30|2025-07-18|\n",
      "|BRL     |0.0                |nintendoproject                      |/subscriptions/da483b95-1caf-404c-bfe4-36abef87f6e6/resourcegroups/nintendoproject/providers/microsoft.web/sites/appfuncmagalu                                             |2025-07-18T17:35|2025-07-18|\n",
      "|BRL     |0.0                |nintendoproject                      |/subscriptions/da483b95-1caf-404c-bfe4-36abef87f6e6/resourcegroups/nintendoproject/providers/microsoft.web/sites/appfunckabum                                              |2025-07-18T17:10|2025-07-18|\n",
      "|BRL     |0.0                |nintendoproject                      |/subscriptions/da483b95-1caf-404c-bfe4-36abef87f6e6/resourcegroups/nintendoproject/providers/microsoft.web/sites/appfunckabum                                              |2025-07-18T17:15|2025-07-18|\n",
      "|BRL     |0.0                |nintendoproject                      |/subscriptions/da483b95-1caf-404c-bfe4-36abef87f6e6/resourcegroups/nintendoproject/providers/microsoft.web/sites/appfunckabum                                              |2025-07-18T17:20|2025-07-18|\n",
      "|BRL     |0.0                |nintendoproject                      |/subscriptions/da483b95-1caf-404c-bfe4-36abef87f6e6/resourcegroups/nintendoproject/providers/microsoft.web/sites/appfunckabum                                              |2025-07-18T17:25|2025-07-18|\n",
      "|BRL     |0.0                |nintendoproject                      |/subscriptions/da483b95-1caf-404c-bfe4-36abef87f6e6/resourcegroups/nintendoproject/providers/microsoft.web/sites/appfunckabum                                              |2025-07-18T17:30|2025-07-18|\n",
      "|BRL     |0.0                |nintendoproject                      |/subscriptions/da483b95-1caf-404c-bfe4-36abef87f6e6/resourcegroups/nintendoproject/providers/microsoft.web/sites/appfunckabum                                              |2025-07-18T17:35|2025-07-18|\n",
      "+--------+-------------------+-------------------------------------+---------------------------------------------------------------------------------------------------------------------------------------------------------------------------+----------------+----------+\n",
      "only showing top 20 rows\n",
      "\n"
     ]
    }
   ],
   "source": [
    "# Lê os dados somente da última partição\n",
    "df = spark.read.format(\"delta\").load(bronze_path).filter(f\"data_ref = '{max_partition}'\")\n",
    "\n",
    "df.show(truncate=False)"
   ]
  },
  {
   "cell_type": "code",
   "execution_count": 4,
   "id": "f44c0bf6",
   "metadata": {},
   "outputs": [
    {
     "name": "stdout",
     "output_type": "stream",
     "text": [
      "+--------+-------------------+-------------------------------------+---------------------------------------------------------------------------------------------------------------------------------------------------------------------------+-------------------+----------+\n",
      "|Currency|PreTaxCost         |ResourceGroup                        |ResourceId                                                                                                                                                                 |UsageDate          |data_ref  |\n",
      "+--------+-------------------+-------------------------------------+---------------------------------------------------------------------------------------------------------------------------------------------------------------------------+-------------------+----------+\n",
      "|BRL     |0.00505974160620001|nintendodatabrickswi86no-workspace-rg|/subscriptions/da483b95-1caf-404c-bfe4-36abef87f6e6/resourcegroups/nintendodatabrickswi86no-workspace-rg/providers/microsoft.storage/storageaccounts/dbstorage7ifgyhjijpdgi|2025-07-18 16:57:00|2025-07-18|\n",
      "|BRL     |0.00505974160620001|nintendodatabrickswi86no-workspace-rg|/subscriptions/da483b95-1caf-404c-bfe4-36abef87f6e6/resourcegroups/nintendodatabrickswi86no-workspace-rg/providers/microsoft.storage/storageaccounts/dbstorage7ifgyhjijpdgi|2025-07-18 17:00:00|2025-07-18|\n",
      "|BRL     |0.00505974160620001|nintendodatabrickswi86no-workspace-rg|/subscriptions/da483b95-1caf-404c-bfe4-36abef87f6e6/resourcegroups/nintendodatabrickswi86no-workspace-rg/providers/microsoft.storage/storageaccounts/dbstorage7ifgyhjijpdgi|2025-07-18 17:05:00|2025-07-18|\n",
      "|BRL     |0.00505974160620001|nintendodatabrickswi86no-workspace-rg|/subscriptions/da483b95-1caf-404c-bfe4-36abef87f6e6/resourcegroups/nintendodatabrickswi86no-workspace-rg/providers/microsoft.storage/storageaccounts/dbstorage7ifgyhjijpdgi|2025-07-18 17:10:00|2025-07-18|\n",
      "|BRL     |0.00505974160620001|nintendodatabrickswi86no-workspace-rg|/subscriptions/da483b95-1caf-404c-bfe4-36abef87f6e6/resourcegroups/nintendodatabrickswi86no-workspace-rg/providers/microsoft.storage/storageaccounts/dbstorage7ifgyhjijpdgi|2025-07-18 17:15:00|2025-07-18|\n",
      "|BRL     |0.00505974160620001|nintendodatabrickswi86no-workspace-rg|/subscriptions/da483b95-1caf-404c-bfe4-36abef87f6e6/resourcegroups/nintendodatabrickswi86no-workspace-rg/providers/microsoft.storage/storageaccounts/dbstorage7ifgyhjijpdgi|2025-07-18 17:20:00|2025-07-18|\n",
      "|BRL     |0.00505974160620001|nintendodatabrickswi86no-workspace-rg|/subscriptions/da483b95-1caf-404c-bfe4-36abef87f6e6/resourcegroups/nintendodatabrickswi86no-workspace-rg/providers/microsoft.storage/storageaccounts/dbstorage7ifgyhjijpdgi|2025-07-18 17:25:00|2025-07-18|\n",
      "|BRL     |0.0                |nintendoproject                      |/subscriptions/da483b95-1caf-404c-bfe4-36abef87f6e6/resourcegroups/nintendoproject/providers/microsoft.web/sites/appfuncmagalu                                             |2025-07-18 17:05:00|2025-07-18|\n",
      "|BRL     |0.0                |nintendoproject                      |/subscriptions/da483b95-1caf-404c-bfe4-36abef87f6e6/resourcegroups/nintendoproject/providers/microsoft.web/sites/appfuncmagalu                                             |2025-07-18 17:10:00|2025-07-18|\n",
      "|BRL     |0.0                |nintendoproject                      |/subscriptions/da483b95-1caf-404c-bfe4-36abef87f6e6/resourcegroups/nintendoproject/providers/microsoft.web/sites/appfuncmagalu                                             |2025-07-18 17:15:00|2025-07-18|\n",
      "|BRL     |0.0                |nintendoproject                      |/subscriptions/da483b95-1caf-404c-bfe4-36abef87f6e6/resourcegroups/nintendoproject/providers/microsoft.web/sites/appfuncmagalu                                             |2025-07-18 17:20:00|2025-07-18|\n",
      "|BRL     |0.0                |nintendoproject                      |/subscriptions/da483b95-1caf-404c-bfe4-36abef87f6e6/resourcegroups/nintendoproject/providers/microsoft.web/sites/appfuncmagalu                                             |2025-07-18 17:25:00|2025-07-18|\n",
      "|BRL     |0.0                |nintendoproject                      |/subscriptions/da483b95-1caf-404c-bfe4-36abef87f6e6/resourcegroups/nintendoproject/providers/microsoft.web/sites/appfuncmagalu                                             |2025-07-18 17:30:00|2025-07-18|\n",
      "|BRL     |0.0                |nintendoproject                      |/subscriptions/da483b95-1caf-404c-bfe4-36abef87f6e6/resourcegroups/nintendoproject/providers/microsoft.web/sites/appfuncmagalu                                             |2025-07-18 17:35:00|2025-07-18|\n",
      "|BRL     |0.0                |nintendoproject                      |/subscriptions/da483b95-1caf-404c-bfe4-36abef87f6e6/resourcegroups/nintendoproject/providers/microsoft.web/sites/appfunckabum                                              |2025-07-18 17:10:00|2025-07-18|\n",
      "|BRL     |0.0                |nintendoproject                      |/subscriptions/da483b95-1caf-404c-bfe4-36abef87f6e6/resourcegroups/nintendoproject/providers/microsoft.web/sites/appfunckabum                                              |2025-07-18 17:15:00|2025-07-18|\n",
      "|BRL     |0.0                |nintendoproject                      |/subscriptions/da483b95-1caf-404c-bfe4-36abef87f6e6/resourcegroups/nintendoproject/providers/microsoft.web/sites/appfunckabum                                              |2025-07-18 17:20:00|2025-07-18|\n",
      "|BRL     |0.0                |nintendoproject                      |/subscriptions/da483b95-1caf-404c-bfe4-36abef87f6e6/resourcegroups/nintendoproject/providers/microsoft.web/sites/appfunckabum                                              |2025-07-18 17:25:00|2025-07-18|\n",
      "|BRL     |0.0                |nintendoproject                      |/subscriptions/da483b95-1caf-404c-bfe4-36abef87f6e6/resourcegroups/nintendoproject/providers/microsoft.web/sites/appfunckabum                                              |2025-07-18 17:30:00|2025-07-18|\n",
      "|BRL     |0.0                |nintendoproject                      |/subscriptions/da483b95-1caf-404c-bfe4-36abef87f6e6/resourcegroups/nintendoproject/providers/microsoft.web/sites/appfunckabum                                              |2025-07-18 17:35:00|2025-07-18|\n",
      "+--------+-------------------+-------------------------------------+---------------------------------------------------------------------------------------------------------------------------------------------------------------------------+-------------------+----------+\n",
      "only showing top 20 rows\n",
      "\n",
      "root\n",
      " |-- Currency: string (nullable = true)\n",
      " |-- PreTaxCost: double (nullable = true)\n",
      " |-- ResourceGroup: string (nullable = true)\n",
      " |-- ResourceId: string (nullable = true)\n",
      " |-- UsageDate: timestamp (nullable = true)\n",
      " |-- data_ref: date (nullable = true)\n",
      "\n"
     ]
    }
   ],
   "source": [
    "df_transformado = (\n",
    "    df\n",
    "    .withColumn(\"PreTaxCost\", col(\"PreTaxCost\").cast(\"double\"))\n",
    "    .withColumn(\"UsageDate\", to_timestamp(col(\"UsageDate\"), \"yyyy-MM-dd'T'HH:mm\"))\n",
    "    .withColumn(\"data_ref\", to_date(col(\"data_ref\"), \"yyyy-MM-dd\"))\n",
    ")\n",
    "\n",
    "df_transformado.show(truncate=False)\n",
    "df_transformado.printSchema()"
   ]
  },
  {
   "cell_type": "code",
   "execution_count": 5,
   "id": "4d46d877",
   "metadata": {},
   "outputs": [],
   "source": [
    "# Regex patterns\n",
    "regex_subscription = r\"/subscriptions/([^/]+)/resourcegroups\"\n",
    "regex_provider = r\"/providers/([^/]+)/\"\n",
    "regex_resource = r\".*/([^/]+)$\""
   ]
  },
  {
   "cell_type": "code",
   "execution_count": 6,
   "id": "333166fc",
   "metadata": {},
   "outputs": [
    {
     "name": "stdout",
     "output_type": "stream",
     "text": [
      "+------------------------------------+-------------------------------------+-----------------+----------------------+-------------------+--------+-------------------+----------+\n",
      "|SubscriptionId                      |ResourceGroup                        |Provider         |ResourceName          |PreTaxCost         |Currency|UsageDate          |data_ref  |\n",
      "+------------------------------------+-------------------------------------+-----------------+----------------------+-------------------+--------+-------------------+----------+\n",
      "|da483b95-1caf-404c-bfe4-36abef87f6e6|nintendodatabrickswi86no-workspace-rg|microsoft.storage|dbstorage7ifgyhjijpdgi|0.00505974160620001|BRL     |2025-07-18 16:57:00|2025-07-18|\n",
      "|da483b95-1caf-404c-bfe4-36abef87f6e6|nintendodatabrickswi86no-workspace-rg|microsoft.storage|dbstorage7ifgyhjijpdgi|0.00505974160620001|BRL     |2025-07-18 17:00:00|2025-07-18|\n",
      "|da483b95-1caf-404c-bfe4-36abef87f6e6|nintendodatabrickswi86no-workspace-rg|microsoft.storage|dbstorage7ifgyhjijpdgi|0.00505974160620001|BRL     |2025-07-18 17:05:00|2025-07-18|\n",
      "|da483b95-1caf-404c-bfe4-36abef87f6e6|nintendodatabrickswi86no-workspace-rg|microsoft.storage|dbstorage7ifgyhjijpdgi|0.00505974160620001|BRL     |2025-07-18 17:10:00|2025-07-18|\n",
      "|da483b95-1caf-404c-bfe4-36abef87f6e6|nintendodatabrickswi86no-workspace-rg|microsoft.storage|dbstorage7ifgyhjijpdgi|0.00505974160620001|BRL     |2025-07-18 17:15:00|2025-07-18|\n",
      "|da483b95-1caf-404c-bfe4-36abef87f6e6|nintendodatabrickswi86no-workspace-rg|microsoft.storage|dbstorage7ifgyhjijpdgi|0.00505974160620001|BRL     |2025-07-18 17:20:00|2025-07-18|\n",
      "|da483b95-1caf-404c-bfe4-36abef87f6e6|nintendodatabrickswi86no-workspace-rg|microsoft.storage|dbstorage7ifgyhjijpdgi|0.00505974160620001|BRL     |2025-07-18 17:25:00|2025-07-18|\n",
      "|da483b95-1caf-404c-bfe4-36abef87f6e6|nintendoproject                      |microsoft.web    |appfuncmagalu         |0.0                |BRL     |2025-07-18 17:05:00|2025-07-18|\n",
      "|da483b95-1caf-404c-bfe4-36abef87f6e6|nintendoproject                      |microsoft.web    |appfuncmagalu         |0.0                |BRL     |2025-07-18 17:10:00|2025-07-18|\n",
      "|da483b95-1caf-404c-bfe4-36abef87f6e6|nintendoproject                      |microsoft.web    |appfuncmagalu         |0.0                |BRL     |2025-07-18 17:15:00|2025-07-18|\n",
      "|da483b95-1caf-404c-bfe4-36abef87f6e6|nintendoproject                      |microsoft.web    |appfuncmagalu         |0.0                |BRL     |2025-07-18 17:20:00|2025-07-18|\n",
      "|da483b95-1caf-404c-bfe4-36abef87f6e6|nintendoproject                      |microsoft.web    |appfuncmagalu         |0.0                |BRL     |2025-07-18 17:25:00|2025-07-18|\n",
      "|da483b95-1caf-404c-bfe4-36abef87f6e6|nintendoproject                      |microsoft.web    |appfuncmagalu         |0.0                |BRL     |2025-07-18 17:30:00|2025-07-18|\n",
      "|da483b95-1caf-404c-bfe4-36abef87f6e6|nintendoproject                      |microsoft.web    |appfuncmagalu         |0.0                |BRL     |2025-07-18 17:35:00|2025-07-18|\n",
      "|da483b95-1caf-404c-bfe4-36abef87f6e6|nintendoproject                      |microsoft.web    |appfunckabum          |0.0                |BRL     |2025-07-18 17:10:00|2025-07-18|\n",
      "|da483b95-1caf-404c-bfe4-36abef87f6e6|nintendoproject                      |microsoft.web    |appfunckabum          |0.0                |BRL     |2025-07-18 17:15:00|2025-07-18|\n",
      "|da483b95-1caf-404c-bfe4-36abef87f6e6|nintendoproject                      |microsoft.web    |appfunckabum          |0.0                |BRL     |2025-07-18 17:20:00|2025-07-18|\n",
      "|da483b95-1caf-404c-bfe4-36abef87f6e6|nintendoproject                      |microsoft.web    |appfunckabum          |0.0                |BRL     |2025-07-18 17:25:00|2025-07-18|\n",
      "|da483b95-1caf-404c-bfe4-36abef87f6e6|nintendoproject                      |microsoft.web    |appfunckabum          |0.0                |BRL     |2025-07-18 17:30:00|2025-07-18|\n",
      "|da483b95-1caf-404c-bfe4-36abef87f6e6|nintendoproject                      |microsoft.web    |appfunckabum          |0.0                |BRL     |2025-07-18 17:35:00|2025-07-18|\n",
      "+------------------------------------+-------------------------------------+-----------------+----------------------+-------------------+--------+-------------------+----------+\n",
      "only showing top 20 rows\n",
      "\n"
     ]
    }
   ],
   "source": [
    "df_ordenado = (\n",
    "    df_transformado\n",
    "    .withColumn(\"SubscriptionId\", regexp_extract(\"ResourceId\", regex_subscription, 1))\n",
    "    .withColumn(\"Provider\", regexp_extract(\"ResourceId\", regex_provider, 1))\n",
    "    .withColumn(\"ResourceName\", regexp_extract(\"ResourceId\", regex_resource, 1))\n",
    "    .select(\n",
    "        \"SubscriptionId\",\n",
    "        \"ResourceGroup\",\n",
    "        \"Provider\",\n",
    "        \"ResourceName\",\n",
    "        \"PreTaxCost\",\n",
    "        \"Currency\",\n",
    "        \"UsageDate\",\n",
    "        \"data_ref\"\n",
    "    )\n",
    ")\n",
    "\n",
    "df_ordenado.show(truncate=False)"
   ]
  },
  {
   "cell_type": "code",
   "execution_count": 7,
   "id": "b1551f27",
   "metadata": {},
   "outputs": [
    {
     "name": "stdout",
     "output_type": "stream",
     "text": [
      "+------------------------------------+-------------------------------------+-----------------+----------------------+-------------------+--------+-------------------+----------+--------------+\n",
      "|SubscriptionId                      |ResourceGroup                        |Provider         |ResourceName          |PreTaxCost         |Currency|UsageDate          |data_ref  |StatusRecourse|\n",
      "+------------------------------------+-------------------------------------+-----------------+----------------------+-------------------+--------+-------------------+----------+--------------+\n",
      "|da483b95-1caf-404c-bfe4-36abef87f6e6|nintendodatabrickswi86no-workspace-rg|microsoft.storage|dbstorage7ifgyhjijpdgi|0.00505974160620001|BRL     |2025-07-18 16:57:00|2025-07-18|Ativo         |\n",
      "|da483b95-1caf-404c-bfe4-36abef87f6e6|nintendodatabrickswi86no-workspace-rg|microsoft.storage|dbstorage7ifgyhjijpdgi|0.00505974160620001|BRL     |2025-07-18 17:00:00|2025-07-18|Ativo         |\n",
      "|da483b95-1caf-404c-bfe4-36abef87f6e6|nintendodatabrickswi86no-workspace-rg|microsoft.storage|dbstorage7ifgyhjijpdgi|0.00505974160620001|BRL     |2025-07-18 17:05:00|2025-07-18|Ativo         |\n",
      "|da483b95-1caf-404c-bfe4-36abef87f6e6|nintendodatabrickswi86no-workspace-rg|microsoft.storage|dbstorage7ifgyhjijpdgi|0.00505974160620001|BRL     |2025-07-18 17:10:00|2025-07-18|Ativo         |\n",
      "|da483b95-1caf-404c-bfe4-36abef87f6e6|nintendodatabrickswi86no-workspace-rg|microsoft.storage|dbstorage7ifgyhjijpdgi|0.00505974160620001|BRL     |2025-07-18 17:15:00|2025-07-18|Ativo         |\n",
      "|da483b95-1caf-404c-bfe4-36abef87f6e6|nintendodatabrickswi86no-workspace-rg|microsoft.storage|dbstorage7ifgyhjijpdgi|0.00505974160620001|BRL     |2025-07-18 17:20:00|2025-07-18|Ativo         |\n",
      "|da483b95-1caf-404c-bfe4-36abef87f6e6|nintendodatabrickswi86no-workspace-rg|microsoft.storage|dbstorage7ifgyhjijpdgi|0.00505974160620001|BRL     |2025-07-18 17:25:00|2025-07-18|Ativo         |\n",
      "|da483b95-1caf-404c-bfe4-36abef87f6e6|nintendoproject                      |microsoft.storage|nintendostorageaccount|0.0384397132880001 |BRL     |2025-07-18 17:00:00|2025-07-18|Ativo         |\n",
      "|da483b95-1caf-404c-bfe4-36abef87f6e6|nintendoproject                      |microsoft.storage|nintendostorageaccount|0.0384397132880001 |BRL     |2025-07-18 17:05:00|2025-07-18|Ativo         |\n",
      "|da483b95-1caf-404c-bfe4-36abef87f6e6|nintendoproject                      |microsoft.storage|nintendostorageaccount|0.0384397132880001 |BRL     |2025-07-18 17:10:00|2025-07-18|Ativo         |\n",
      "|da483b95-1caf-404c-bfe4-36abef87f6e6|nintendoproject                      |microsoft.storage|nintendostorageaccount|0.0384397132880001 |BRL     |2025-07-18 17:15:00|2025-07-18|Ativo         |\n",
      "|da483b95-1caf-404c-bfe4-36abef87f6e6|nintendoproject                      |microsoft.storage|nintendostorageaccount|0.0384397132880001 |BRL     |2025-07-18 17:20:00|2025-07-18|Ativo         |\n",
      "|da483b95-1caf-404c-bfe4-36abef87f6e6|nintendoproject                      |microsoft.storage|nintendostorageaccount|0.0384397132880001 |BRL     |2025-07-18 17:25:00|2025-07-18|Ativo         |\n",
      "|da483b95-1caf-404c-bfe4-36abef87f6e6|nintendoproject                      |microsoft.storage|nintendostorageaccount|0.0413934300240001 |BRL     |2025-07-18 17:30:00|2025-07-18|Ativo         |\n",
      "|da483b95-1caf-404c-bfe4-36abef87f6e6|nintendoproject                      |microsoft.web    |appfuncmagalu         |0.0                |BRL     |2025-07-18 17:05:00|2025-07-18|Ativo         |\n",
      "|da483b95-1caf-404c-bfe4-36abef87f6e6|nintendoproject                      |microsoft.web    |appfuncmagalu         |0.0                |BRL     |2025-07-18 17:10:00|2025-07-18|Ativo         |\n",
      "|da483b95-1caf-404c-bfe4-36abef87f6e6|nintendoproject                      |microsoft.web    |appfuncmagalu         |0.0                |BRL     |2025-07-18 17:15:00|2025-07-18|Ativo         |\n",
      "|da483b95-1caf-404c-bfe4-36abef87f6e6|nintendoproject                      |microsoft.web    |appfuncmagalu         |0.0                |BRL     |2025-07-18 17:20:00|2025-07-18|Ativo         |\n",
      "|da483b95-1caf-404c-bfe4-36abef87f6e6|nintendoproject                      |microsoft.web    |appfuncmagalu         |0.0                |BRL     |2025-07-18 17:25:00|2025-07-18|Ativo         |\n",
      "|da483b95-1caf-404c-bfe4-36abef87f6e6|nintendoproject                      |microsoft.web    |appfuncmagalu         |0.0                |BRL     |2025-07-18 17:30:00|2025-07-18|Ativo         |\n",
      "+------------------------------------+-------------------------------------+-----------------+----------------------+-------------------+--------+-------------------+----------+--------------+\n",
      "only showing top 20 rows\n",
      "\n"
     ]
    }
   ],
   "source": [
    "max_date = df_ordenado.select(max(\"UsageDate\").alias(\"max_date\")).collect()[0][\"max_date\"]\n",
    "\n",
    "ativos_hoje = df_ordenado.filter(col(\"UsageDate\") == max_date).select(\"ResourceName\").distinct()\n",
    "\n",
    "ativos_hoje_list = [row.ResourceName for row in ativos_hoje.collect()]\n",
    "\n",
    "w = Window.partitionBy(\"ResourceName\")\n",
    "df_last = df_ordenado.withColumn(\"max_usage\", max(\"UsageDate\").over(w))\n",
    "\n",
    "df_last = df_last.filter(col(\"UsageDate\") == col(\"max_usage\"))\n",
    "\n",
    "df_obsoletos = df_last.join(ativos_hoje, on=\"ResourceName\", how=\"left_anti\")\n",
    "\n",
    "df_novos = df_obsoletos.withColumn(\"UsageDate\", date_add(col(\"UsageDate\"), 1)) \\\n",
    "                       .withColumn(\"PreTaxCost\", lit(0.0)) \\\n",
    "                       .withColumn(\"data_ref\", to_date(col(\"UsageDate\")))\n",
    "\n",
    "df_novos = df_novos.select(*df_ordenado.columns)\n",
    "\n",
    "df_com_status = df_ordenado.unionByName(df_novos)\n",
    "\n",
    "df_com_status = df_com_status.withColumn(\n",
    "    \"StatusRecourse\",\n",
    "    when(col(\"ResourceName\").isin(ativos_hoje_list), lit(\"Ativo\")).otherwise(lit(\"Inativo\"))\n",
    ")\n",
    "\n",
    "df_com_status.show(truncate=False)"
   ]
  },
  {
   "cell_type": "code",
   "execution_count": 8,
   "id": "671520fa",
   "metadata": {},
   "outputs": [
    {
     "name": "stdout",
     "output_type": "stream",
     "text": [
      "+------------------------------------+-------------------------------------+-----------------+----------------------+--------------+-------------------+----------+--------+-------------------+----------+\n",
      "|SubscriptionId                      |ResourceGroup                        |Provider         |ResourceName          |StatusRecourse|PreTaxCost         |Pct_Change|Currency|UsageDate          |data_ref  |\n",
      "+------------------------------------+-------------------------------------+-----------------+----------------------+--------------+-------------------+----------+--------+-------------------+----------+\n",
      "|da483b95-1caf-404c-bfe4-36abef87f6e6|nintendoproject                      |microsoft.web    |appfunckabum          |Ativo         |0.0                |0.0       |BRL     |2025-07-18 17:55:00|2025-07-18|\n",
      "|da483b95-1caf-404c-bfe4-36abef87f6e6|nintendoproject                      |microsoft.web    |appfuncmagalu         |Ativo         |0.0                |0.0       |BRL     |2025-07-18 17:55:00|2025-07-18|\n",
      "|da483b95-1caf-404c-bfe4-36abef87f6e6|nintendodatabrickswi86no-workspace-rg|microsoft.storage|dbstorage7ifgyhjijpdgi|Ativo         |0.00528496514960001|0.0       |BRL     |2025-07-18 17:55:00|2025-07-18|\n",
      "|da483b95-1caf-404c-bfe4-36abef87f6e6|nintendoproject                      |microsoft.storage|nintendostorageaccount|Ativo         |0.0413934300240001 |0.0       |BRL     |2025-07-18 17:55:00|2025-07-18|\n",
      "|da483b95-1caf-404c-bfe4-36abef87f6e6|nintendoproject                      |microsoft.web    |appfunckabum          |Ativo         |0.0                |0.0       |BRL     |2025-07-18 17:50:00|2025-07-18|\n",
      "|da483b95-1caf-404c-bfe4-36abef87f6e6|nintendoproject                      |microsoft.web    |appfuncmagalu         |Ativo         |0.0                |0.0       |BRL     |2025-07-18 17:50:00|2025-07-18|\n",
      "|da483b95-1caf-404c-bfe4-36abef87f6e6|nintendodatabrickswi86no-workspace-rg|microsoft.storage|dbstorage7ifgyhjijpdgi|Ativo         |0.00528496514960001|0.0       |BRL     |2025-07-18 17:50:00|2025-07-18|\n",
      "|da483b95-1caf-404c-bfe4-36abef87f6e6|nintendoproject                      |microsoft.storage|nintendostorageaccount|Ativo         |0.0413934300240001 |0.0       |BRL     |2025-07-18 17:50:00|2025-07-18|\n",
      "|da483b95-1caf-404c-bfe4-36abef87f6e6|nintendoproject                      |microsoft.web    |appfunckabum          |Ativo         |0.0                |0.0       |BRL     |2025-07-18 17:45:00|2025-07-18|\n",
      "|da483b95-1caf-404c-bfe4-36abef87f6e6|nintendoproject                      |microsoft.web    |appfuncmagalu         |Ativo         |0.0                |0.0       |BRL     |2025-07-18 17:45:00|2025-07-18|\n",
      "|da483b95-1caf-404c-bfe4-36abef87f6e6|nintendodatabrickswi86no-workspace-rg|microsoft.storage|dbstorage7ifgyhjijpdgi|Ativo         |0.00528496514960001|0.0       |BRL     |2025-07-18 17:45:00|2025-07-18|\n",
      "|da483b95-1caf-404c-bfe4-36abef87f6e6|nintendoproject                      |microsoft.storage|nintendostorageaccount|Ativo         |0.0413934300240001 |0.0       |BRL     |2025-07-18 17:45:00|2025-07-18|\n",
      "|da483b95-1caf-404c-bfe4-36abef87f6e6|nintendoproject                      |microsoft.web    |appfunckabum          |Ativo         |0.0                |0.0       |BRL     |2025-07-18 17:40:00|2025-07-18|\n",
      "|da483b95-1caf-404c-bfe4-36abef87f6e6|nintendoproject                      |microsoft.web    |appfuncmagalu         |Ativo         |0.0                |0.0       |BRL     |2025-07-18 17:40:00|2025-07-18|\n",
      "|da483b95-1caf-404c-bfe4-36abef87f6e6|nintendodatabrickswi86no-workspace-rg|microsoft.storage|dbstorage7ifgyhjijpdgi|Ativo         |0.00528496514960001|0.0       |BRL     |2025-07-18 17:40:00|2025-07-18|\n",
      "|da483b95-1caf-404c-bfe4-36abef87f6e6|nintendoproject                      |microsoft.storage|nintendostorageaccount|Ativo         |0.0413934300240001 |0.0       |BRL     |2025-07-18 17:40:00|2025-07-18|\n",
      "|da483b95-1caf-404c-bfe4-36abef87f6e6|nintendoproject                      |microsoft.web    |appfuncmagalu         |Ativo         |0.0                |0.0       |BRL     |2025-07-18 17:35:00|2025-07-18|\n",
      "|da483b95-1caf-404c-bfe4-36abef87f6e6|nintendodatabrickswi86no-workspace-rg|microsoft.storage|dbstorage7ifgyhjijpdgi|Ativo         |0.00528496514960001|0.0       |BRL     |2025-07-18 17:35:00|2025-07-18|\n",
      "|da483b95-1caf-404c-bfe4-36abef87f6e6|nintendoproject                      |microsoft.web    |appfunckabum          |Ativo         |0.0                |0.0       |BRL     |2025-07-18 17:35:00|2025-07-18|\n",
      "|da483b95-1caf-404c-bfe4-36abef87f6e6|nintendoproject                      |microsoft.storage|nintendostorageaccount|Ativo         |0.0413934300240001 |0.0       |BRL     |2025-07-18 17:35:00|2025-07-18|\n",
      "+------------------------------------+-------------------------------------+-----------------+----------------------+--------------+-------------------+----------+--------+-------------------+----------+\n",
      "only showing top 20 rows\n",
      "\n"
     ]
    }
   ],
   "source": [
    "w = Window.partitionBy(\"ResourceName\").orderBy(\"UsageDate\")\n",
    "\n",
    "df_temp  = df_com_status.withColumn(\"PreTaxCost_prev\", lag(col(\"PreTaxCost\")).over(w))\n",
    "\n",
    "df_final = df_temp.withColumn(\n",
    "    \"Pct_Change\",\n",
    "    when(\n",
    "        col(\"PreTaxCost_prev\").isNull(), lit(0.0)\n",
    "    ).when(\n",
    "        col(\"PreTaxCost_prev\") == 0, lit(0.0)\n",
    "    ).otherwise(\n",
    "        round(\n",
    "            ((col(\"PreTaxCost\") - col(\"PreTaxCost_prev\")) / col(\"PreTaxCost_prev\")) * 100, 2\n",
    "        )\n",
    "    )\n",
    ").drop(\"PreTaxCost_prev\") \\\n",
    " .orderBy(col(\"UsageDate\").desc()) \\\n",
    " .select(\n",
    "     \"SubscriptionId\",\n",
    "     \"ResourceGroup\",\n",
    "     \"Provider\",\n",
    "     \"ResourceName\",\n",
    "     \"StatusRecourse\",\n",
    "     \"PreTaxCost\",\n",
    "     \"Pct_Change\",\n",
    "     \"Currency\",\n",
    "     \"UsageDate\",\n",
    "     \"data_ref\"\n",
    ")\n",
    "\n",
    "\n",
    "df_final.show(truncate=False)"
   ]
  },
  {
   "cell_type": "code",
   "execution_count": 9,
   "id": "9c66137f",
   "metadata": {},
   "outputs": [],
   "source": [
    "# Caminho S3A para os dados no formato delta na camada silver\n",
    "silver_path = \"s3a://azurecost/silver\"\n",
    "\n",
    "df_final.write.format(\"delta\") \\\n",
    "    .mode(\"overwrite\") \\\n",
    "    .partitionBy(\"data_ref\") \\\n",
    "    .save(silver_path)"
   ]
  }
 ],
 "metadata": {
  "kernelspec": {
   "display_name": "Python 3 (ipykernel)",
   "language": "python",
   "name": "python3"
  }
 },
 "nbformat": 4,
 "nbformat_minor": 5
}
