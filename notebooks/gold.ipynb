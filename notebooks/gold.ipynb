{
 "cells": [
  {
   "cell_type": "code",
   "execution_count": 2,
   "id": "5aa54fbb",
   "metadata": {},
   "outputs": [
    {
     "name": "stdout",
     "output_type": "stream",
     "text": [
      "Requirement already satisfied: numpy==1.26.4 in /opt/conda/lib/python3.11/site-packages (1.26.4)\n"
     ]
    }
   ],
   "source": [
    "!pip install --user numpy==1.26.4\n"
   ]
  },
  {
   "cell_type": "code",
   "execution_count": 3,
   "id": "8c020e6b",
   "metadata": {},
   "outputs": [
    {
     "name": "stdout",
     "output_type": "stream",
     "text": [
      "Collecting scipy==1.15.0\n",
      "  Downloading scipy-1.15.0-cp311-cp311-manylinux_2_17_x86_64.manylinux2014_x86_64.whl.metadata (61 kB)\n",
      "Requirement already satisfied: numpy<2.5,>=1.23.5 in /opt/conda/lib/python3.11/site-packages (from scipy==1.15.0) (1.26.4)\n",
      "Downloading scipy-1.15.0-cp311-cp311-manylinux_2_17_x86_64.manylinux2014_x86_64.whl (40.6 MB)\n",
      "\u001b[2K   \u001b[90m━━━━━━━━━━━━━━━━━━━━━━━━━━━━━━━━━━━━━━━━\u001b[0m \u001b[32m40.6/40.6 MB\u001b[0m \u001b[31m21.3 MB/s\u001b[0m eta \u001b[36m0:00:00\u001b[0m00:01\u001b[0m00:01\u001b[0m\n",
      "\u001b[?25hInstalling collected packages: scipy\n",
      "Successfully installed scipy-1.15.0\n"
     ]
    }
   ],
   "source": [
    "!pip install --user scipy==1.15.0"
   ]
  },
  {
   "cell_type": "code",
   "execution_count": 4,
   "id": "9f7d9b3a",
   "metadata": {},
   "outputs": [],
   "source": [
    "from pyspark.sql import SparkSession\n",
    "from pyspark.sql.functions import col, when, unix_timestamp, lit\n",
    "from delta.tables import DeltaTable\n",
    "from pyspark.sql.types import StructType, StructField, DoubleType, StringType\n",
    "from pyspark.ml.feature import VectorAssembler\n",
    "from pyspark.ml.regression import LinearRegression\n",
    "from pyspark.ml.linalg import DenseVector\n",
    "import os\n",
    "\n",
    "DELTA_LAKE_PACKAGE = \"io.delta:delta-core_2.12:3.3.2\"\n",
    "\n",
    "spark = SparkSession.builder \\\n",
    "    .appName(\"PySpark Delta Lake MinIO Save\") \\\n",
    "    .config(\"spark.sql.extensions\", \"io.delta.sql.DeltaSparkSessionExtension\") \\\n",
    "    .config(\"spark.sql.catalog.spark_catalog\", \"org.apache.spark.sql.delta.catalog.DeltaCatalog\") \\\n",
    "    .config(\"spark.hadoop.fs.s3a.endpoint\", \"http://minio:9000\") \\\n",
    "    .config(\"spark.hadoop.fs.s3a.access.key\", os.getenv(\"KEY_ACCESS\")) \\\n",
    "    .config(\"spark.hadoop.fs.s3a.secret.key\", os.getenv(\"KEY_SECRETS\")) \\\n",
    "    .config(\"spark.hadoop.fs.s3a.path.style.access\", \"true\") \\\n",
    "    .config(\"spark.hadoop.fs.s3a.impl\", \"org.apache.hadoop.fs.s3a.S3AFileSystem\") \\\n",
    "    .config(\"spark.hadoop.fs.s3a.aws.credentials.provider\", \"org.apache.hadoop.fs.s3a.SimpleAWSCredentialsProvider\") \\\n",
    "    .getOrCreate()"
   ]
  },
  {
   "cell_type": "code",
   "execution_count": 5,
   "id": "6e95cdca",
   "metadata": {},
   "outputs": [
    {
     "name": "stdout",
     "output_type": "stream",
     "text": [
      "Última partição disponível: 2025-07-27\n"
     ]
    }
   ],
   "source": [
    "# Caminho para a tabela Delta (no seu MinIO)\n",
    "silver_path = \"s3a://azurecost/silver\"\n",
    "\n",
    "# Inicializa objeto DeltaTable\n",
    "delta_table = DeltaTable.forPath(spark, silver_path)\n",
    "\n",
    "# Obtém todos os valores únicos da partição\n",
    "partitions_df = delta_table.toDF().select(\"data_ref\").distinct()\n",
    "\n",
    "# Obtém o valor mais recente da partição\n",
    "max_partition = partitions_df.agg({\"data_ref\": \"max\"}).collect()[0][0]\n",
    "print(f\"Última partição disponível: {max_partition}\")"
   ]
  },
  {
   "cell_type": "code",
   "execution_count": 6,
   "id": "481b406b",
   "metadata": {},
   "outputs": [
    {
     "name": "stdout",
     "output_type": "stream",
     "text": [
      "+------------------------------------+-------------------------------------+-----------------+----------------------+--------------+-------------------+----------+--------+-------------------+----------+\n",
      "|SubscriptionId                      |ResourceGroup                        |Provider         |ResourceName          |StatusRecourse|PreTaxCost         |Pct_Change|Currency|UsageDate          |data_ref  |\n",
      "+------------------------------------+-------------------------------------+-----------------+----------------------+--------------+-------------------+----------+--------+-------------------+----------+\n",
      "|da483b95-1caf-404c-bfe4-36abef87f6e6|nintendoproject                      |microsoft.web    |appfunckabum          |Ativo         |0.0                |0.0       |BRL     |2025-07-27 18:00:00|2025-07-27|\n",
      "|da483b95-1caf-404c-bfe4-36abef87f6e6|nintendoproject                      |microsoft.web    |appfuncmagalu         |Ativo         |0.0                |0.0       |BRL     |2025-07-27 18:00:00|2025-07-27|\n",
      "|da483b95-1caf-404c-bfe4-36abef87f6e6|nintendodatabrickswi86no-workspace-rg|microsoft.storage|dbstorage7ifgyhjijpdgi|Ativo         |0.00535738564060001|0.0       |BRL     |2025-07-27 18:00:00|2025-07-27|\n",
      "|da483b95-1caf-404c-bfe4-36abef87f6e6|nintendoproject                      |microsoft.storage|nintendostorageaccount|Ativo         |0.0413524967030001 |0.0       |BRL     |2025-07-27 18:00:00|2025-07-27|\n",
      "|da483b95-1caf-404c-bfe4-36abef87f6e6|nintendoproject                      |microsoft.web    |appfunckabum          |Ativo         |0.0                |0.0       |BRL     |2025-07-27 17:55:00|2025-07-27|\n",
      "|da483b95-1caf-404c-bfe4-36abef87f6e6|nintendoproject                      |microsoft.web    |appfuncmagalu         |Ativo         |0.0                |0.0       |BRL     |2025-07-27 17:55:00|2025-07-27|\n",
      "|da483b95-1caf-404c-bfe4-36abef87f6e6|nintendodatabrickswi86no-workspace-rg|microsoft.storage|dbstorage7ifgyhjijpdgi|Ativo         |0.00535738564060001|0.0       |BRL     |2025-07-27 17:55:00|2025-07-27|\n",
      "|da483b95-1caf-404c-bfe4-36abef87f6e6|nintendoproject                      |microsoft.storage|nintendostorageaccount|Ativo         |0.0413524967030001 |0.0       |BRL     |2025-07-27 17:55:00|2025-07-27|\n",
      "|da483b95-1caf-404c-bfe4-36abef87f6e6|nintendoproject                      |microsoft.web    |appfunckabum          |Ativo         |0.0                |0.0       |BRL     |2025-07-27 17:52:00|2025-07-27|\n",
      "|da483b95-1caf-404c-bfe4-36abef87f6e6|nintendoproject                      |microsoft.web    |appfuncmagalu         |Ativo         |0.0                |0.0       |BRL     |2025-07-27 17:52:00|2025-07-27|\n",
      "|da483b95-1caf-404c-bfe4-36abef87f6e6|nintendodatabrickswi86no-workspace-rg|microsoft.storage|dbstorage7ifgyhjijpdgi|Ativo         |0.00535738564060001|0.0       |BRL     |2025-07-27 17:52:00|2025-07-27|\n",
      "|da483b95-1caf-404c-bfe4-36abef87f6e6|nintendoproject                      |microsoft.storage|nintendostorageaccount|Ativo         |0.0413524967030001 |0.0       |BRL     |2025-07-27 17:52:00|2025-07-27|\n",
      "|da483b95-1caf-404c-bfe4-36abef87f6e6|nintendoproject                      |microsoft.web    |appfunckabum          |Ativo         |0.0                |0.0       |BRL     |2025-07-27 17:51:00|2025-07-27|\n",
      "|da483b95-1caf-404c-bfe4-36abef87f6e6|nintendoproject                      |microsoft.web    |appfuncmagalu         |Ativo         |0.0                |0.0       |BRL     |2025-07-27 17:51:00|2025-07-27|\n",
      "|da483b95-1caf-404c-bfe4-36abef87f6e6|nintendodatabrickswi86no-workspace-rg|microsoft.storage|dbstorage7ifgyhjijpdgi|Ativo         |0.00535738564060001|69.76     |BRL     |2025-07-27 17:51:00|2025-07-27|\n",
      "|da483b95-1caf-404c-bfe4-36abef87f6e6|nintendoproject                      |microsoft.storage|nintendostorageaccount|Ativo         |0.0413524967030001 |74.95     |BRL     |2025-07-27 17:51:00|2025-07-27|\n",
      "|da483b95-1caf-404c-bfe4-36abef87f6e6|nintendoproject                      |microsoft.web    |appfunckabum          |Ativo         |0.0                |0.0       |BRL     |2025-07-27 12:00:00|2025-07-27|\n",
      "|da483b95-1caf-404c-bfe4-36abef87f6e6|nintendoproject                      |microsoft.web    |appfuncmagalu         |Ativo         |0.0                |0.0       |BRL     |2025-07-27 12:00:00|2025-07-27|\n",
      "|da483b95-1caf-404c-bfe4-36abef87f6e6|nintendodatabrickswi86no-workspace-rg|microsoft.storage|dbstorage7ifgyhjijpdgi|Ativo         |0.0031558907902    |0.0       |BRL     |2025-07-27 12:00:00|2025-07-27|\n",
      "|da483b95-1caf-404c-bfe4-36abef87f6e6|nintendoproject                      |microsoft.storage|nintendostorageaccount|Ativo         |0.023636493721     |0.0       |BRL     |2025-07-27 12:00:00|2025-07-27|\n",
      "+------------------------------------+-------------------------------------+-----------------+----------------------+--------------+-------------------+----------+--------+-------------------+----------+\n",
      "only showing top 20 rows\n",
      "\n"
     ]
    }
   ],
   "source": [
    "# Lê os dados somente da última partição\n",
    "df = spark.read.format(\"delta\").load(silver_path).filter(f\"data_ref = '{max_partition}'\")\n",
    "\n",
    "df.show(truncate=False)"
   ]
  },
  {
   "cell_type": "code",
   "execution_count": 7,
   "id": "a5e619b0",
   "metadata": {},
   "outputs": [
    {
     "name": "stdout",
     "output_type": "stream",
     "text": [
      "+------------------------------------+-------------------------------------+-----------------+----------------------+--------------+-------------------+----------+--------+-------------------+----------+--------------+\n",
      "|SubscriptionId                      |ResourceGroup                        |Provider         |ResourceName          |StatusRecourse|PreTaxCost         |Pct_Change|Currency|UsageDate          |data_ref  |TendenciaCusto|\n",
      "+------------------------------------+-------------------------------------+-----------------+----------------------+--------------+-------------------+----------+--------+-------------------+----------+--------------+\n",
      "|da483b95-1caf-404c-bfe4-36abef87f6e6|nintendoproject                      |microsoft.web    |appfunckabum          |Ativo         |0.0                |0.0       |BRL     |2025-07-27 18:00:00|2025-07-27|Estável       |\n",
      "|da483b95-1caf-404c-bfe4-36abef87f6e6|nintendoproject                      |microsoft.web    |appfuncmagalu         |Ativo         |0.0                |0.0       |BRL     |2025-07-27 18:00:00|2025-07-27|Estável       |\n",
      "|da483b95-1caf-404c-bfe4-36abef87f6e6|nintendodatabrickswi86no-workspace-rg|microsoft.storage|dbstorage7ifgyhjijpdgi|Ativo         |0.00535738564060001|0.0       |BRL     |2025-07-27 18:00:00|2025-07-27|Estável       |\n",
      "|da483b95-1caf-404c-bfe4-36abef87f6e6|nintendoproject                      |microsoft.storage|nintendostorageaccount|Ativo         |0.0413524967030001 |0.0       |BRL     |2025-07-27 18:00:00|2025-07-27|Estável       |\n",
      "|da483b95-1caf-404c-bfe4-36abef87f6e6|nintendoproject                      |microsoft.web    |appfunckabum          |Ativo         |0.0                |0.0       |BRL     |2025-07-27 17:55:00|2025-07-27|Estável       |\n",
      "|da483b95-1caf-404c-bfe4-36abef87f6e6|nintendoproject                      |microsoft.web    |appfuncmagalu         |Ativo         |0.0                |0.0       |BRL     |2025-07-27 17:55:00|2025-07-27|Estável       |\n",
      "|da483b95-1caf-404c-bfe4-36abef87f6e6|nintendodatabrickswi86no-workspace-rg|microsoft.storage|dbstorage7ifgyhjijpdgi|Ativo         |0.00535738564060001|0.0       |BRL     |2025-07-27 17:55:00|2025-07-27|Estável       |\n",
      "|da483b95-1caf-404c-bfe4-36abef87f6e6|nintendoproject                      |microsoft.storage|nintendostorageaccount|Ativo         |0.0413524967030001 |0.0       |BRL     |2025-07-27 17:55:00|2025-07-27|Estável       |\n",
      "|da483b95-1caf-404c-bfe4-36abef87f6e6|nintendoproject                      |microsoft.web    |appfunckabum          |Ativo         |0.0                |0.0       |BRL     |2025-07-27 17:52:00|2025-07-27|Estável       |\n",
      "|da483b95-1caf-404c-bfe4-36abef87f6e6|nintendoproject                      |microsoft.web    |appfuncmagalu         |Ativo         |0.0                |0.0       |BRL     |2025-07-27 17:52:00|2025-07-27|Estável       |\n",
      "|da483b95-1caf-404c-bfe4-36abef87f6e6|nintendodatabrickswi86no-workspace-rg|microsoft.storage|dbstorage7ifgyhjijpdgi|Ativo         |0.00535738564060001|0.0       |BRL     |2025-07-27 17:52:00|2025-07-27|Estável       |\n",
      "|da483b95-1caf-404c-bfe4-36abef87f6e6|nintendoproject                      |microsoft.storage|nintendostorageaccount|Ativo         |0.0413524967030001 |0.0       |BRL     |2025-07-27 17:52:00|2025-07-27|Estável       |\n",
      "|da483b95-1caf-404c-bfe4-36abef87f6e6|nintendoproject                      |microsoft.web    |appfunckabum          |Ativo         |0.0                |0.0       |BRL     |2025-07-27 17:51:00|2025-07-27|Estável       |\n",
      "|da483b95-1caf-404c-bfe4-36abef87f6e6|nintendoproject                      |microsoft.web    |appfuncmagalu         |Ativo         |0.0                |0.0       |BRL     |2025-07-27 17:51:00|2025-07-27|Estável       |\n",
      "|da483b95-1caf-404c-bfe4-36abef87f6e6|nintendodatabrickswi86no-workspace-rg|microsoft.storage|dbstorage7ifgyhjijpdgi|Ativo         |0.00535738564060001|69.76     |BRL     |2025-07-27 17:51:00|2025-07-27|Subindo       |\n",
      "|da483b95-1caf-404c-bfe4-36abef87f6e6|nintendoproject                      |microsoft.storage|nintendostorageaccount|Ativo         |0.0413524967030001 |74.95     |BRL     |2025-07-27 17:51:00|2025-07-27|Subindo       |\n",
      "|da483b95-1caf-404c-bfe4-36abef87f6e6|nintendoproject                      |microsoft.web    |appfunckabum          |Ativo         |0.0                |0.0       |BRL     |2025-07-27 12:00:00|2025-07-27|Estável       |\n",
      "|da483b95-1caf-404c-bfe4-36abef87f6e6|nintendoproject                      |microsoft.web    |appfuncmagalu         |Ativo         |0.0                |0.0       |BRL     |2025-07-27 12:00:00|2025-07-27|Estável       |\n",
      "|da483b95-1caf-404c-bfe4-36abef87f6e6|nintendodatabrickswi86no-workspace-rg|microsoft.storage|dbstorage7ifgyhjijpdgi|Ativo         |0.0031558907902    |0.0       |BRL     |2025-07-27 12:00:00|2025-07-27|Estável       |\n",
      "|da483b95-1caf-404c-bfe4-36abef87f6e6|nintendoproject                      |microsoft.storage|nintendostorageaccount|Ativo         |0.023636493721     |0.0       |BRL     |2025-07-27 12:00:00|2025-07-27|Estável       |\n",
      "+------------------------------------+-------------------------------------+-----------------+----------------------+--------------+-------------------+----------+--------+-------------------+----------+--------------+\n",
      "only showing top 20 rows\n",
      "\n"
     ]
    }
   ],
   "source": [
    "df_tend = df.withColumn(\n",
    "    \"TendenciaCusto\",\n",
    "    when(col(\"Pct_Change\") > 0, \"Subindo\")\n",
    "    .when(col(\"Pct_Change\") < 0, \"Descendo\")\n",
    "    .otherwise(\"Estável\")\n",
    ")\n",
    "\n",
    "df_tend.show(truncate=False)"
   ]
  },
  {
   "cell_type": "code",
   "execution_count": 8,
   "id": "036b1633",
   "metadata": {},
   "outputs": [
    {
     "name": "stderr",
     "output_type": "stream",
     "text": [
      "/usr/local/spark/python/pyspark/sql/dataframe.py:169: UserWarning: DataFrame.sql_ctx is an internal property, and will be removed in future releases. Use DataFrame.sparkSession instead.\n",
      "  warnings.warn(\n",
      "/usr/local/spark/python/pyspark/sql/dataframe.py:169: UserWarning: DataFrame.sql_ctx is an internal property, and will be removed in future releases. Use DataFrame.sparkSession instead.\n",
      "  warnings.warn(\n"
     ]
    },
    {
     "name": "stdout",
     "output_type": "stream",
     "text": [
      "+----------------------+------------------------------------+-------------------------------------+-----------------+--------------+-------------------+----------+--------+-------------------+----------+--------------+-------------+--------------------+\n",
      "|ResourceName          |SubscriptionId                      |ResourceGroup                        |Provider         |StatusRecourse|PreTaxCost         |Pct_Change|Currency|UsageDate          |data_ref  |TendenciaCusto|UsageDate_num|PrevisaoProxima     |\n",
      "+----------------------+------------------------------------+-------------------------------------+-----------------+--------------+-------------------+----------+--------+-------------------+----------+--------------+-------------+--------------------+\n",
      "|dbstorage7ifgyhjijpdgi|da483b95-1caf-404c-bfe4-36abef87f6e6|nintendodatabrickswi86no-workspace-rg|microsoft.storage|Ativo         |0.00442981765040001|0.0       |BRL     |2025-07-26 14:10:00|2025-07-27|Estável       |1753539000   |0.004328278871716051|\n",
      "|appfuncmagalu         |da483b95-1caf-404c-bfe4-36abef87f6e6|nintendoproject                      |microsoft.web    |Ativo         |0.0                |0.0       |BRL     |2025-07-26 14:10:00|2025-07-27|Estável       |1753539000   |0.0                 |\n",
      "|appfunckabum          |da483b95-1caf-404c-bfe4-36abef87f6e6|nintendoproject                      |microsoft.web    |Ativo         |0.0                |0.0       |BRL     |2025-07-26 14:10:00|2025-07-27|Estável       |1753539000   |0.0                 |\n",
      "|nintendostorageaccount|da483b95-1caf-404c-bfe4-36abef87f6e6|nintendoproject                      |microsoft.storage|Ativo         |0.032503941363     |0.0       |BRL     |2025-07-26 14:10:00|2025-07-27|Estável       |1753539000   |0.033242956336763996|\n",
      "|appfuncmagalu         |da483b95-1caf-404c-bfe4-36abef87f6e6|nintendoproject                      |microsoft.web    |Ativo         |0.0                |0.0       |BRL     |2025-07-26 14:15:00|2025-07-27|Estável       |1753539300   |0.0                 |\n",
      "|appfunckabum          |da483b95-1caf-404c-bfe4-36abef87f6e6|nintendoproject                      |microsoft.web    |Ativo         |0.0                |0.0       |BRL     |2025-07-26 14:15:00|2025-07-27|Estável       |1753539300   |0.0                 |\n",
      "|dbstorage7ifgyhjijpdgi|da483b95-1caf-404c-bfe4-36abef87f6e6|nintendodatabrickswi86no-workspace-rg|microsoft.storage|Ativo         |0.00442981765040001|0.0       |BRL     |2025-07-26 14:15:00|2025-07-27|Estável       |1753539300   |0.004328278871716051|\n",
      "|nintendostorageaccount|da483b95-1caf-404c-bfe4-36abef87f6e6|nintendoproject                      |microsoft.storage|Ativo         |0.032503941363     |0.0       |BRL     |2025-07-26 14:15:00|2025-07-27|Estável       |1753539300   |0.033242956336763996|\n",
      "|appfunckabum          |da483b95-1caf-404c-bfe4-36abef87f6e6|nintendoproject                      |microsoft.web    |Ativo         |0.0                |0.0       |BRL     |2025-07-27 11:35:00|2025-07-27|Estável       |1753616100   |0.0                 |\n",
      "|dbstorage7ifgyhjijpdgi|da483b95-1caf-404c-bfe4-36abef87f6e6|nintendodatabrickswi86no-workspace-rg|microsoft.storage|Ativo         |0.0031558907902    |-28.76    |BRL     |2025-07-27 11:35:00|2025-07-27|Descendo      |1753616100   |0.004328278871716051|\n",
      "|appfuncmagalu         |da483b95-1caf-404c-bfe4-36abef87f6e6|nintendoproject                      |microsoft.web    |Ativo         |0.0                |0.0       |BRL     |2025-07-27 11:35:00|2025-07-27|Estável       |1753616100   |0.0                 |\n",
      "|nintendostorageaccount|da483b95-1caf-404c-bfe4-36abef87f6e6|nintendoproject                      |microsoft.storage|Ativo         |0.023636493721     |-27.28    |BRL     |2025-07-27 11:35:00|2025-07-27|Descendo      |1753616100   |0.033242956336763996|\n",
      "|appfunckabum          |da483b95-1caf-404c-bfe4-36abef87f6e6|nintendoproject                      |microsoft.web    |Ativo         |0.0                |0.0       |BRL     |2025-07-27 11:40:00|2025-07-27|Estável       |1753616400   |0.0                 |\n",
      "|dbstorage7ifgyhjijpdgi|da483b95-1caf-404c-bfe4-36abef87f6e6|nintendodatabrickswi86no-workspace-rg|microsoft.storage|Ativo         |0.0031558907902    |0.0       |BRL     |2025-07-27 11:40:00|2025-07-27|Estável       |1753616400   |0.004328278871716051|\n",
      "|appfuncmagalu         |da483b95-1caf-404c-bfe4-36abef87f6e6|nintendoproject                      |microsoft.web    |Ativo         |0.0                |0.0       |BRL     |2025-07-27 11:40:00|2025-07-27|Estável       |1753616400   |0.0                 |\n",
      "|nintendostorageaccount|da483b95-1caf-404c-bfe4-36abef87f6e6|nintendoproject                      |microsoft.storage|Ativo         |0.023636493721     |0.0       |BRL     |2025-07-27 11:40:00|2025-07-27|Estável       |1753616400   |0.033242956336763996|\n",
      "|appfunckabum          |da483b95-1caf-404c-bfe4-36abef87f6e6|nintendoproject                      |microsoft.web    |Ativo         |0.0                |0.0       |BRL     |2025-07-27 11:45:00|2025-07-27|Estável       |1753616700   |0.0                 |\n",
      "|dbstorage7ifgyhjijpdgi|da483b95-1caf-404c-bfe4-36abef87f6e6|nintendodatabrickswi86no-workspace-rg|microsoft.storage|Ativo         |0.0031558907902    |0.0       |BRL     |2025-07-27 11:45:00|2025-07-27|Estável       |1753616700   |0.004328278871716051|\n",
      "|nintendostorageaccount|da483b95-1caf-404c-bfe4-36abef87f6e6|nintendoproject                      |microsoft.storage|Ativo         |0.023636493721     |0.0       |BRL     |2025-07-27 11:45:00|2025-07-27|Estável       |1753616700   |0.033242956336763996|\n",
      "|appfuncmagalu         |da483b95-1caf-404c-bfe4-36abef87f6e6|nintendoproject                      |microsoft.web    |Ativo         |0.0                |0.0       |BRL     |2025-07-27 11:45:00|2025-07-27|Estável       |1753616700   |0.0                 |\n",
      "+----------------------+------------------------------------+-------------------------------------+-----------------+--------------+-------------------+----------+--------+-------------------+----------+--------------+-------------+--------------------+\n",
      "only showing top 20 rows\n",
      "\n"
     ]
    }
   ],
   "source": [
    "# 1. Converter UsageDate em número\n",
    "df_ts = df_tend.withColumn(\"UsageDate_num\", unix_timestamp(col(\"UsageDate\")))\n",
    "\n",
    "# 2. Listar todos os recursos únicos\n",
    "resource_list = [row[\"ResourceName\"] for row in df_ts.select(\"ResourceName\").distinct().collect()]\n",
    "\n",
    "previsoes = []\n",
    "\n",
    "# 3. Loop para treinar e prever para cada ResourceName\n",
    "for resource in resource_list:\n",
    "    df_recurso = df_ts.filter(col(\"ResourceName\") == resource)\n",
    "\n",
    "    assembler = VectorAssembler(inputCols=[\"UsageDate_num\"], outputCol=\"features\")\n",
    "    df_feat = assembler.transform(df_recurso)\n",
    "\n",
    "    if df_feat.count() < 2:\n",
    "        previsoes.append((resource, None))\n",
    "        continue\n",
    "\n",
    "    lr = LinearRegression(featuresCol=\"features\", labelCol=\"PreTaxCost\")\n",
    "    model = lr.fit(df_feat)\n",
    "\n",
    "    last_ts = df_feat.agg({\"UsageDate_num\": \"max\"}).first()[0]\n",
    "    future_ts = last_ts + 600\n",
    "\n",
    "    row_prediction = df_feat.sql_ctx.createDataFrame([\n",
    "        (DenseVector([float(future_ts)]),)\n",
    "    ], [\"features\"])\n",
    "\n",
    "    result = model.transform(row_prediction).select(\"prediction\").collect()[0][0]\n",
    "    previsoes.append((resource, result))\n",
    "\n",
    "# 4. Criar DataFrame com as previsões\n",
    "schema = StructType([\n",
    "    StructField(\"ResourceName\", StringType(), True),\n",
    "    StructField(\"PrevisaoProxima\", DoubleType(), True),\n",
    "])\n",
    "\n",
    "df_previsao = spark.createDataFrame(previsoes, schema)\n",
    "\n",
    "# ⚠️ 5. Remover coluna PrevisaoProxima anterior (se existir) para evitar ambiguidade\n",
    "if \"PrevisaoProxima\" in df_ts.columns:\n",
    "    df_ts = df_ts.drop(\"PrevisaoProxima\")\n",
    "\n",
    "# 6. Join com as previsões\n",
    "df_final = df_ts.join(df_previsao, on=\"ResourceName\", how=\"left\")\n",
    "\n",
    "# 7. Seleciona e exibe\n",
    "df_final.orderBy(\"UsageDate\").show(truncate=False)"
   ]
  },
  {
   "cell_type": "code",
   "execution_count": 9,
   "id": "9c66137f",
   "metadata": {},
   "outputs": [],
   "source": [
    "# Caminho S3A para os dados no formato delta na camada silver\n",
    "gold_path = \"s3a://azurecost/gold\"\n",
    "\n",
    "df_final.write.format(\"delta\") \\\n",
    "    .mode(\"overwrite\") \\\n",
    "    .partitionBy(\"data_ref\") \\\n",
    "    .save(gold_path)"
   ]
  }
 ],
 "metadata": {
  "kernelspec": {
   "display_name": "Python 3 (ipykernel)",
   "language": "python",
   "name": "python3"
  },
  "language_info": {
   "codemirror_mode": {
    "name": "ipython",
    "version": 3
   },
   "file_extension": ".py",
   "mimetype": "text/x-python",
   "name": "python",
   "nbconvert_exporter": "python",
   "pygments_lexer": "ipython3",
   "version": "3.11.4"
  }
 },
 "nbformat": 4,
 "nbformat_minor": 5
}
