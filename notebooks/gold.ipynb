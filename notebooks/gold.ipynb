{
 "cells": [
  {
   "cell_type": "code",
   "execution_count": 10,
   "id": "5aa54fbb",
   "metadata": {},
   "outputs": [
    {
     "name": "stdout",
     "output_type": "stream",
     "text": [
      "Requirement already satisfied: numpy==1.26.4 in ./.local/lib/python3.11/site-packages (1.26.4)\n"
     ]
    }
   ],
   "source": [
    "!pip install --user numpy==1.26.4\n"
   ]
  },
  {
   "cell_type": "code",
   "execution_count": 11,
   "id": "8c020e6b",
   "metadata": {},
   "outputs": [
    {
     "name": "stdout",
     "output_type": "stream",
     "text": [
      "Requirement already satisfied: scipy==1.15.0 in ./.local/lib/python3.11/site-packages (1.15.0)\n",
      "Requirement already satisfied: numpy<2.5,>=1.23.5 in ./.local/lib/python3.11/site-packages (from scipy==1.15.0) (1.26.4)\n"
     ]
    }
   ],
   "source": [
    "!pip install --user scipy==1.15.0"
   ]
  },
  {
   "cell_type": "code",
   "execution_count": 12,
   "id": "9f7d9b3a",
   "metadata": {},
   "outputs": [],
   "source": [
    "from pyspark.sql import SparkSession\n",
    "from pyspark.sql.functions import col, when, unix_timestamp, lit\n",
    "from delta.tables import DeltaTable\n",
    "from pyspark.sql.types import StructType, StructField, DoubleType, StringType\n",
    "from pyspark.ml.feature import VectorAssembler\n",
    "from pyspark.ml.regression import LinearRegression\n",
    "from pyspark.ml.linalg import DenseVector\n",
    "import os\n",
    "\n",
    "DELTA_LAKE_PACKAGE = \"io.delta:delta-core_2.12:3.3.2\"\n",
    "\n",
    "spark = SparkSession.builder \\\n",
    "    .appName(\"PySpark Delta Lake MinIO Save\") \\\n",
    "    .config(\"spark.sql.extensions\", \"io.delta.sql.DeltaSparkSessionExtension\") \\\n",
    "    .config(\"spark.sql.catalog.spark_catalog\", \"org.apache.spark.sql.delta.catalog.DeltaCatalog\") \\\n",
    "    .config(\"spark.hadoop.fs.s3a.endpoint\", \"http://minio:9000\") \\\n",
    "    .config(\"spark.hadoop.fs.s3a.access.key\", os.getenv(\"KEY_ACCESS\")) \\\n",
    "    .config(\"spark.hadoop.fs.s3a.secret.key\", os.getenv(\"KEY_SECRETS\")) \\\n",
    "    .config(\"spark.hadoop.fs.s3a.path.style.access\", \"true\") \\\n",
    "    .config(\"spark.hadoop.fs.s3a.impl\", \"org.apache.hadoop.fs.s3a.S3AFileSystem\") \\\n",
    "    .config(\"spark.hadoop.fs.s3a.aws.credentials.provider\", \"org.apache.hadoop.fs.s3a.SimpleAWSCredentialsProvider\") \\\n",
    "    .getOrCreate()"
   ]
  },
  {
   "cell_type": "code",
   "execution_count": 13,
   "id": "6e95cdca",
   "metadata": {},
   "outputs": [
    {
     "name": "stdout",
     "output_type": "stream",
     "text": [
      "Última partição disponível: 2025-07-18\n"
     ]
    }
   ],
   "source": [
    "# Caminho para a tabela Delta (no seu MinIO)\n",
    "silver_path = \"s3a://azurecost/silver\"\n",
    "\n",
    "# Inicializa objeto DeltaTable\n",
    "delta_table = DeltaTable.forPath(spark, silver_path)\n",
    "\n",
    "# Obtém todos os valores únicos da partição\n",
    "partitions_df = delta_table.toDF().select(\"data_ref\").distinct()\n",
    "\n",
    "# Obtém o valor mais recente da partição\n",
    "max_partition = partitions_df.agg({\"data_ref\": \"max\"}).collect()[0][0]\n",
    "print(f\"Última partição disponível: {max_partition}\")"
   ]
  },
  {
   "cell_type": "code",
   "execution_count": 14,
   "id": "481b406b",
   "metadata": {},
   "outputs": [
    {
     "name": "stdout",
     "output_type": "stream",
     "text": [
      "+------------------------------------+-------------------------------------+-----------------+----------------------+--------------+-------------------+----------+--------+-------------------+----------+\n",
      "|SubscriptionId                      |ResourceGroup                        |Provider         |ResourceName          |StatusRecourse|PreTaxCost         |Pct_Change|Currency|UsageDate          |data_ref  |\n",
      "+------------------------------------+-------------------------------------+-----------------+----------------------+--------------+-------------------+----------+--------+-------------------+----------+\n",
      "|da483b95-1caf-404c-bfe4-36abef87f6e6|nintendoproject                      |microsoft.web    |appfunckabum          |Ativo         |0.0                |0.0       |BRL     |2025-07-18 17:55:00|2025-07-18|\n",
      "|da483b95-1caf-404c-bfe4-36abef87f6e6|nintendoproject                      |microsoft.web    |appfuncmagalu         |Ativo         |0.0                |0.0       |BRL     |2025-07-18 17:55:00|2025-07-18|\n",
      "|da483b95-1caf-404c-bfe4-36abef87f6e6|nintendodatabrickswi86no-workspace-rg|microsoft.storage|dbstorage7ifgyhjijpdgi|Ativo         |0.00528496514960001|0.0       |BRL     |2025-07-18 17:55:00|2025-07-18|\n",
      "|da483b95-1caf-404c-bfe4-36abef87f6e6|nintendoproject                      |microsoft.storage|nintendostorageaccount|Ativo         |0.0413934300240001 |0.0       |BRL     |2025-07-18 17:55:00|2025-07-18|\n",
      "|da483b95-1caf-404c-bfe4-36abef87f6e6|nintendoproject                      |microsoft.web    |appfunckabum          |Ativo         |0.0                |0.0       |BRL     |2025-07-18 17:50:00|2025-07-18|\n",
      "|da483b95-1caf-404c-bfe4-36abef87f6e6|nintendoproject                      |microsoft.web    |appfuncmagalu         |Ativo         |0.0                |0.0       |BRL     |2025-07-18 17:50:00|2025-07-18|\n",
      "|da483b95-1caf-404c-bfe4-36abef87f6e6|nintendodatabrickswi86no-workspace-rg|microsoft.storage|dbstorage7ifgyhjijpdgi|Ativo         |0.00528496514960001|0.0       |BRL     |2025-07-18 17:50:00|2025-07-18|\n",
      "|da483b95-1caf-404c-bfe4-36abef87f6e6|nintendoproject                      |microsoft.storage|nintendostorageaccount|Ativo         |0.0413934300240001 |0.0       |BRL     |2025-07-18 17:50:00|2025-07-18|\n",
      "|da483b95-1caf-404c-bfe4-36abef87f6e6|nintendoproject                      |microsoft.web    |appfunckabum          |Ativo         |0.0                |0.0       |BRL     |2025-07-18 17:45:00|2025-07-18|\n",
      "|da483b95-1caf-404c-bfe4-36abef87f6e6|nintendoproject                      |microsoft.web    |appfuncmagalu         |Ativo         |0.0                |0.0       |BRL     |2025-07-18 17:45:00|2025-07-18|\n",
      "|da483b95-1caf-404c-bfe4-36abef87f6e6|nintendodatabrickswi86no-workspace-rg|microsoft.storage|dbstorage7ifgyhjijpdgi|Ativo         |0.00528496514960001|0.0       |BRL     |2025-07-18 17:45:00|2025-07-18|\n",
      "|da483b95-1caf-404c-bfe4-36abef87f6e6|nintendoproject                      |microsoft.storage|nintendostorageaccount|Ativo         |0.0413934300240001 |0.0       |BRL     |2025-07-18 17:45:00|2025-07-18|\n",
      "|da483b95-1caf-404c-bfe4-36abef87f6e6|nintendoproject                      |microsoft.web    |appfunckabum          |Ativo         |0.0                |0.0       |BRL     |2025-07-18 17:40:00|2025-07-18|\n",
      "|da483b95-1caf-404c-bfe4-36abef87f6e6|nintendoproject                      |microsoft.web    |appfuncmagalu         |Ativo         |0.0                |0.0       |BRL     |2025-07-18 17:40:00|2025-07-18|\n",
      "|da483b95-1caf-404c-bfe4-36abef87f6e6|nintendodatabrickswi86no-workspace-rg|microsoft.storage|dbstorage7ifgyhjijpdgi|Ativo         |0.00528496514960001|0.0       |BRL     |2025-07-18 17:40:00|2025-07-18|\n",
      "|da483b95-1caf-404c-bfe4-36abef87f6e6|nintendoproject                      |microsoft.storage|nintendostorageaccount|Ativo         |0.0413934300240001 |0.0       |BRL     |2025-07-18 17:40:00|2025-07-18|\n",
      "|da483b95-1caf-404c-bfe4-36abef87f6e6|nintendoproject                      |microsoft.web    |appfunckabum          |Ativo         |0.0                |0.0       |BRL     |2025-07-18 17:35:00|2025-07-18|\n",
      "|da483b95-1caf-404c-bfe4-36abef87f6e6|nintendoproject                      |microsoft.web    |appfuncmagalu         |Ativo         |0.0                |0.0       |BRL     |2025-07-18 17:35:00|2025-07-18|\n",
      "|da483b95-1caf-404c-bfe4-36abef87f6e6|nintendodatabrickswi86no-workspace-rg|microsoft.storage|dbstorage7ifgyhjijpdgi|Ativo         |0.00528496514960001|0.0       |BRL     |2025-07-18 17:35:00|2025-07-18|\n",
      "|da483b95-1caf-404c-bfe4-36abef87f6e6|nintendoproject                      |microsoft.storage|nintendostorageaccount|Ativo         |0.0413934300240001 |0.0       |BRL     |2025-07-18 17:35:00|2025-07-18|\n",
      "+------------------------------------+-------------------------------------+-----------------+----------------------+--------------+-------------------+----------+--------+-------------------+----------+\n",
      "only showing top 20 rows\n",
      "\n"
     ]
    }
   ],
   "source": [
    "# Lê os dados somente da última partição\n",
    "df = spark.read.format(\"delta\").load(silver_path).filter(f\"data_ref = '{max_partition}'\")\n",
    "\n",
    "df.show(truncate=False)"
   ]
  },
  {
   "cell_type": "code",
   "execution_count": 15,
   "id": "a5e619b0",
   "metadata": {},
   "outputs": [
    {
     "name": "stdout",
     "output_type": "stream",
     "text": [
      "+------------------------------------+-------------------------------------+-----------------+----------------------+--------------+-------------------+----------+--------+-------------------+----------+--------------+\n",
      "|SubscriptionId                      |ResourceGroup                        |Provider         |ResourceName          |StatusRecourse|PreTaxCost         |Pct_Change|Currency|UsageDate          |data_ref  |TendenciaCusto|\n",
      "+------------------------------------+-------------------------------------+-----------------+----------------------+--------------+-------------------+----------+--------+-------------------+----------+--------------+\n",
      "|da483b95-1caf-404c-bfe4-36abef87f6e6|nintendoproject                      |microsoft.web    |appfunckabum          |Ativo         |0.0                |0.0       |BRL     |2025-07-18 17:55:00|2025-07-18|Estável       |\n",
      "|da483b95-1caf-404c-bfe4-36abef87f6e6|nintendoproject                      |microsoft.web    |appfuncmagalu         |Ativo         |0.0                |0.0       |BRL     |2025-07-18 17:55:00|2025-07-18|Estável       |\n",
      "|da483b95-1caf-404c-bfe4-36abef87f6e6|nintendodatabrickswi86no-workspace-rg|microsoft.storage|dbstorage7ifgyhjijpdgi|Ativo         |0.00528496514960001|0.0       |BRL     |2025-07-18 17:55:00|2025-07-18|Estável       |\n",
      "|da483b95-1caf-404c-bfe4-36abef87f6e6|nintendoproject                      |microsoft.storage|nintendostorageaccount|Ativo         |0.0413934300240001 |0.0       |BRL     |2025-07-18 17:55:00|2025-07-18|Estável       |\n",
      "|da483b95-1caf-404c-bfe4-36abef87f6e6|nintendoproject                      |microsoft.web    |appfunckabum          |Ativo         |0.0                |0.0       |BRL     |2025-07-18 17:50:00|2025-07-18|Estável       |\n",
      "|da483b95-1caf-404c-bfe4-36abef87f6e6|nintendoproject                      |microsoft.web    |appfuncmagalu         |Ativo         |0.0                |0.0       |BRL     |2025-07-18 17:50:00|2025-07-18|Estável       |\n",
      "|da483b95-1caf-404c-bfe4-36abef87f6e6|nintendodatabrickswi86no-workspace-rg|microsoft.storage|dbstorage7ifgyhjijpdgi|Ativo         |0.00528496514960001|0.0       |BRL     |2025-07-18 17:50:00|2025-07-18|Estável       |\n",
      "|da483b95-1caf-404c-bfe4-36abef87f6e6|nintendoproject                      |microsoft.storage|nintendostorageaccount|Ativo         |0.0413934300240001 |0.0       |BRL     |2025-07-18 17:50:00|2025-07-18|Estável       |\n",
      "|da483b95-1caf-404c-bfe4-36abef87f6e6|nintendoproject                      |microsoft.web    |appfunckabum          |Ativo         |0.0                |0.0       |BRL     |2025-07-18 17:45:00|2025-07-18|Estável       |\n",
      "|da483b95-1caf-404c-bfe4-36abef87f6e6|nintendoproject                      |microsoft.web    |appfuncmagalu         |Ativo         |0.0                |0.0       |BRL     |2025-07-18 17:45:00|2025-07-18|Estável       |\n",
      "|da483b95-1caf-404c-bfe4-36abef87f6e6|nintendodatabrickswi86no-workspace-rg|microsoft.storage|dbstorage7ifgyhjijpdgi|Ativo         |0.00528496514960001|0.0       |BRL     |2025-07-18 17:45:00|2025-07-18|Estável       |\n",
      "|da483b95-1caf-404c-bfe4-36abef87f6e6|nintendoproject                      |microsoft.storage|nintendostorageaccount|Ativo         |0.0413934300240001 |0.0       |BRL     |2025-07-18 17:45:00|2025-07-18|Estável       |\n",
      "|da483b95-1caf-404c-bfe4-36abef87f6e6|nintendoproject                      |microsoft.web    |appfunckabum          |Ativo         |0.0                |0.0       |BRL     |2025-07-18 17:40:00|2025-07-18|Estável       |\n",
      "|da483b95-1caf-404c-bfe4-36abef87f6e6|nintendoproject                      |microsoft.web    |appfuncmagalu         |Ativo         |0.0                |0.0       |BRL     |2025-07-18 17:40:00|2025-07-18|Estável       |\n",
      "|da483b95-1caf-404c-bfe4-36abef87f6e6|nintendodatabrickswi86no-workspace-rg|microsoft.storage|dbstorage7ifgyhjijpdgi|Ativo         |0.00528496514960001|0.0       |BRL     |2025-07-18 17:40:00|2025-07-18|Estável       |\n",
      "|da483b95-1caf-404c-bfe4-36abef87f6e6|nintendoproject                      |microsoft.storage|nintendostorageaccount|Ativo         |0.0413934300240001 |0.0       |BRL     |2025-07-18 17:40:00|2025-07-18|Estável       |\n",
      "|da483b95-1caf-404c-bfe4-36abef87f6e6|nintendoproject                      |microsoft.web    |appfunckabum          |Ativo         |0.0                |0.0       |BRL     |2025-07-18 17:35:00|2025-07-18|Estável       |\n",
      "|da483b95-1caf-404c-bfe4-36abef87f6e6|nintendoproject                      |microsoft.web    |appfuncmagalu         |Ativo         |0.0                |0.0       |BRL     |2025-07-18 17:35:00|2025-07-18|Estável       |\n",
      "|da483b95-1caf-404c-bfe4-36abef87f6e6|nintendodatabrickswi86no-workspace-rg|microsoft.storage|dbstorage7ifgyhjijpdgi|Ativo         |0.00528496514960001|0.0       |BRL     |2025-07-18 17:35:00|2025-07-18|Estável       |\n",
      "|da483b95-1caf-404c-bfe4-36abef87f6e6|nintendoproject                      |microsoft.storage|nintendostorageaccount|Ativo         |0.0413934300240001 |0.0       |BRL     |2025-07-18 17:35:00|2025-07-18|Estável       |\n",
      "+------------------------------------+-------------------------------------+-----------------+----------------------+--------------+-------------------+----------+--------+-------------------+----------+--------------+\n",
      "only showing top 20 rows\n",
      "\n"
     ]
    }
   ],
   "source": [
    "df_tend = df.withColumn(\n",
    "    \"TendenciaCusto\",\n",
    "    when(col(\"Pct_Change\") > 0, \"Subindo\")\n",
    "    .when(col(\"Pct_Change\") < 0, \"Descendo\")\n",
    "    .otherwise(\"Estável\")\n",
    ")\n",
    "\n",
    "df_tend.show(truncate=False)"
   ]
  },
  {
   "cell_type": "code",
   "execution_count": 16,
   "id": "036b1633",
   "metadata": {},
   "outputs": [
    {
     "name": "stdout",
     "output_type": "stream",
     "text": [
      "+----------------------+------------------------------------+-------------------------------------+-----------------+--------------+-------------------+----------+--------+-------------------+----------+--------------+-------------+--------------------+\n",
      "|ResourceName          |SubscriptionId                      |ResourceGroup                        |Provider         |StatusRecourse|PreTaxCost         |Pct_Change|Currency|UsageDate          |data_ref  |TendenciaCusto|UsageDate_num|PrevisaoProxima     |\n",
      "+----------------------+------------------------------------+-------------------------------------+-----------------+--------------+-------------------+----------+--------+-------------------+----------+--------------+-------------+--------------------+\n",
      "|appfunckabum          |da483b95-1caf-404c-bfe4-36abef87f6e6|nintendoproject                      |microsoft.web    |Ativo         |0.0                |0.0       |BRL     |2025-07-18 16:57:00|2025-07-18|Estável       |1752857820   |0.0                 |\n",
      "|dbstorage7ifgyhjijpdgi|da483b95-1caf-404c-bfe4-36abef87f6e6|nintendodatabrickswi86no-workspace-rg|microsoft.storage|Ativo         |0.00505974160620001|0.0       |BRL     |2025-07-18 16:57:00|2025-07-18|Estável       |1752857820   |0.005374548719572658|\n",
      "|nintendostorageaccount|da483b95-1caf-404c-bfe4-36abef87f6e6|nintendoproject                      |microsoft.storage|Ativo         |0.0384397132880001 |0.0       |BRL     |2025-07-18 16:57:00|2025-07-18|Estável       |1752857820   |0.0425682827944911  |\n",
      "|appfuncmagalu         |da483b95-1caf-404c-bfe4-36abef87f6e6|nintendoproject                      |microsoft.web    |Ativo         |0.0                |0.0       |BRL     |2025-07-18 16:57:00|2025-07-18|Estável       |1752857820   |0.0                 |\n",
      "|appfunckabum          |da483b95-1caf-404c-bfe4-36abef87f6e6|nintendoproject                      |microsoft.web    |Ativo         |0.0                |0.0       |BRL     |2025-07-18 17:00:00|2025-07-18|Estável       |1752858000   |0.0                 |\n",
      "|dbstorage7ifgyhjijpdgi|da483b95-1caf-404c-bfe4-36abef87f6e6|nintendodatabrickswi86no-workspace-rg|microsoft.storage|Ativo         |0.00505974160620001|0.0       |BRL     |2025-07-18 17:00:00|2025-07-18|Estável       |1752858000   |0.005374548719572658|\n",
      "|nintendostorageaccount|da483b95-1caf-404c-bfe4-36abef87f6e6|nintendoproject                      |microsoft.storage|Ativo         |0.0384397132880001 |0.0       |BRL     |2025-07-18 17:00:00|2025-07-18|Estável       |1752858000   |0.0425682827944911  |\n",
      "|appfuncmagalu         |da483b95-1caf-404c-bfe4-36abef87f6e6|nintendoproject                      |microsoft.web    |Ativo         |0.0                |0.0       |BRL     |2025-07-18 17:00:00|2025-07-18|Estável       |1752858000   |0.0                 |\n",
      "|appfunckabum          |da483b95-1caf-404c-bfe4-36abef87f6e6|nintendoproject                      |microsoft.web    |Ativo         |0.0                |0.0       |BRL     |2025-07-18 17:05:00|2025-07-18|Estável       |1752858300   |0.0                 |\n",
      "|dbstorage7ifgyhjijpdgi|da483b95-1caf-404c-bfe4-36abef87f6e6|nintendodatabrickswi86no-workspace-rg|microsoft.storage|Ativo         |0.00505974160620001|0.0       |BRL     |2025-07-18 17:05:00|2025-07-18|Estável       |1752858300   |0.005374548719572658|\n",
      "|nintendostorageaccount|da483b95-1caf-404c-bfe4-36abef87f6e6|nintendoproject                      |microsoft.storage|Ativo         |0.0384397132880001 |0.0       |BRL     |2025-07-18 17:05:00|2025-07-18|Estável       |1752858300   |0.0425682827944911  |\n",
      "|appfuncmagalu         |da483b95-1caf-404c-bfe4-36abef87f6e6|nintendoproject                      |microsoft.web    |Ativo         |0.0                |0.0       |BRL     |2025-07-18 17:05:00|2025-07-18|Estável       |1752858300   |0.0                 |\n",
      "|appfunckabum          |da483b95-1caf-404c-bfe4-36abef87f6e6|nintendoproject                      |microsoft.web    |Ativo         |0.0                |0.0       |BRL     |2025-07-18 17:10:00|2025-07-18|Estável       |1752858600   |0.0                 |\n",
      "|dbstorage7ifgyhjijpdgi|da483b95-1caf-404c-bfe4-36abef87f6e6|nintendodatabrickswi86no-workspace-rg|microsoft.storage|Ativo         |0.00505974160620001|0.0       |BRL     |2025-07-18 17:10:00|2025-07-18|Estável       |1752858600   |0.005374548719572658|\n",
      "|nintendostorageaccount|da483b95-1caf-404c-bfe4-36abef87f6e6|nintendoproject                      |microsoft.storage|Ativo         |0.0384397132880001 |0.0       |BRL     |2025-07-18 17:10:00|2025-07-18|Estável       |1752858600   |0.0425682827944911  |\n",
      "|appfuncmagalu         |da483b95-1caf-404c-bfe4-36abef87f6e6|nintendoproject                      |microsoft.web    |Ativo         |0.0                |0.0       |BRL     |2025-07-18 17:10:00|2025-07-18|Estável       |1752858600   |0.0                 |\n",
      "|dbstorage7ifgyhjijpdgi|da483b95-1caf-404c-bfe4-36abef87f6e6|nintendodatabrickswi86no-workspace-rg|microsoft.storage|Ativo         |0.00505974160620001|0.0       |BRL     |2025-07-18 17:15:00|2025-07-18|Estável       |1752858900   |0.005374548719572658|\n",
      "|nintendostorageaccount|da483b95-1caf-404c-bfe4-36abef87f6e6|nintendoproject                      |microsoft.storage|Ativo         |0.0384397132880001 |0.0       |BRL     |2025-07-18 17:15:00|2025-07-18|Estável       |1752858900   |0.0425682827944911  |\n",
      "|appfunckabum          |da483b95-1caf-404c-bfe4-36abef87f6e6|nintendoproject                      |microsoft.web    |Ativo         |0.0                |0.0       |BRL     |2025-07-18 17:15:00|2025-07-18|Estável       |1752858900   |0.0                 |\n",
      "|appfuncmagalu         |da483b95-1caf-404c-bfe4-36abef87f6e6|nintendoproject                      |microsoft.web    |Ativo         |0.0                |0.0       |BRL     |2025-07-18 17:15:00|2025-07-18|Estável       |1752858900   |0.0                 |\n",
      "+----------------------+------------------------------------+-------------------------------------+-----------------+--------------+-------------------+----------+--------+-------------------+----------+--------------+-------------+--------------------+\n",
      "only showing top 20 rows\n",
      "\n"
     ]
    }
   ],
   "source": [
    "# 1. Converter UsageDate em número\n",
    "df_ts = df_tend.withColumn(\"UsageDate_num\", unix_timestamp(col(\"UsageDate\")))\n",
    "\n",
    "# 2. Listar todos os recursos únicos\n",
    "resource_list = [row[\"ResourceName\"] for row in df_ts.select(\"ResourceName\").distinct().collect()]\n",
    "\n",
    "previsoes = []\n",
    "\n",
    "# 3. Loop para treinar e prever para cada ResourceName\n",
    "for resource in resource_list:\n",
    "    df_recurso = df_ts.filter(col(\"ResourceName\") == resource)\n",
    "\n",
    "    assembler = VectorAssembler(inputCols=[\"UsageDate_num\"], outputCol=\"features\")\n",
    "    df_feat = assembler.transform(df_recurso)\n",
    "\n",
    "    if df_feat.count() < 2:\n",
    "        previsoes.append((resource, None))\n",
    "        continue\n",
    "\n",
    "    lr = LinearRegression(featuresCol=\"features\", labelCol=\"PreTaxCost\")\n",
    "    model = lr.fit(df_feat)\n",
    "\n",
    "    last_ts = df_feat.agg({\"UsageDate_num\": \"max\"}).first()[0]\n",
    "    future_ts = last_ts + 600\n",
    "\n",
    "    row_prediction = df_feat.sql_ctx.createDataFrame([\n",
    "        (DenseVector([float(future_ts)]),)\n",
    "    ], [\"features\"])\n",
    "\n",
    "    result = model.transform(row_prediction).select(\"prediction\").collect()[0][0]\n",
    "    previsoes.append((resource, result))\n",
    "\n",
    "# 4. Criar DataFrame com as previsões\n",
    "schema = StructType([\n",
    "    StructField(\"ResourceName\", StringType(), True),\n",
    "    StructField(\"PrevisaoProxima\", DoubleType(), True),\n",
    "])\n",
    "\n",
    "df_previsao = spark.createDataFrame(previsoes, schema)\n",
    "\n",
    "# ⚠️ 5. Remover coluna PrevisaoProxima anterior (se existir) para evitar ambiguidade\n",
    "if \"PrevisaoProxima\" in df_ts.columns:\n",
    "    df_ts = df_ts.drop(\"PrevisaoProxima\")\n",
    "\n",
    "# 6. Join com as previsões\n",
    "df_final = df_ts.join(df_previsao, on=\"ResourceName\", how=\"left\")\n",
    "\n",
    "# 7. Seleciona e exibe\n",
    "df_final.orderBy(\"UsageDate\").show(truncate=False)"
   ]
  },
  {
   "cell_type": "code",
   "execution_count": 17,
   "id": "9c66137f",
   "metadata": {},
   "outputs": [],
   "source": [
    "# Caminho S3A para os dados no formato delta na camada silver\n",
    "gold_path = \"s3a://azurecost/gold\"\n",
    "\n",
    "df_final.write.format(\"delta\") \\\n",
    "    .mode(\"overwrite\") \\\n",
    "    .partitionBy(\"data_ref\") \\\n",
    "    .save(gold_path)"
   ]
  }
 ],
 "metadata": {
  "kernelspec": {
   "display_name": "Python 3 (ipykernel)",
   "language": "python",
   "name": "python3"
  }
 },
 "nbformat": 4,
 "nbformat_minor": 5
}
