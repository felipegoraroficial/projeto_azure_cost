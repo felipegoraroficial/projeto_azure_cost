{
 "cells": [
  {
   "cell_type": "code",
   "execution_count": 1,
   "id": "b7294a4f",
   "metadata": {},
   "outputs": [],
   "source": [
    "from pyspark.sql import SparkSession\n",
    "from pyspark.sql.functions import current_date, date_format\n",
    "import os\n",
    "\n",
    "DELTA_LAKE_PACKAGE = \"io.delta:delta-core_2.12:3.3.2\"\n",
    "\n",
    "spark = SparkSession.builder \\\n",
    "    .appName(\"PySpark Delta Lake MinIO Save\") \\\n",
    "    .config(\"spark.sql.extensions\", \"io.delta.sql.DeltaSparkSessionExtension\") \\\n",
    "    .config(\"spark.sql.catalog.spark_catalog\", \"org.apache.spark.sql.delta.catalog.DeltaCatalog\") \\\n",
    "    .config(\"spark.hadoop.fs.s3a.endpoint\", \"http://minio:9000\") \\\n",
    "    .config(\"spark.hadoop.fs.s3a.access.key\", os.getenv(\"KEY_ACCESS\")) \\\n",
    "    .config(\"spark.hadoop.fs.s3a.secret.key\", os.getenv(\"KEY_SECRETS\")) \\\n",
    "    .config(\"spark.hadoop.fs.s3a.path.style.access\", \"true\") \\\n",
    "    .config(\"spark.hadoop.fs.s3a.impl\", \"org.apache.hadoop.fs.s3a.S3AFileSystem\") \\\n",
    "    .config(\"spark.hadoop.fs.s3a.aws.credentials.provider\", \"org.apache.hadoop.fs.s3a.SimpleAWSCredentialsProvider\") \\\n",
    "    .getOrCreate()"
   ]
  },
  {
   "cell_type": "code",
   "execution_count": 2,
   "id": "c38057ab",
   "metadata": {},
   "outputs": [
    {
     "name": "stdout",
     "output_type": "stream",
     "text": [
      "+--------+-------------------+--------------------+--------------------+----------------+----------+\n",
      "|Currency|         PreTaxCost|       ResourceGroup|          ResourceId|       UsageDate|  data_ref|\n",
      "+--------+-------------------+--------------------+--------------------+----------------+----------+\n",
      "|     BRL|0.00448501047580001|nintendodatabrick...|/subscriptions/da...|2025-07-24T15:53|2025-07-24|\n",
      "|     BRL|0.00448501047580001|nintendodatabrick...|/subscriptions/da...|2025-07-24T15:55|2025-07-24|\n",
      "|     BRL|0.00448501047580001|nintendodatabrick...|/subscriptions/da...|2025-07-24T16:00|2025-07-24|\n",
      "|     BRL|0.00448501047580001|nintendodatabrick...|/subscriptions/da...|2025-07-24T16:05|2025-07-24|\n",
      "|     BRL|0.00448501047580001|nintendodatabrick...|/subscriptions/da...|2025-07-24T16:10|2025-07-24|\n",
      "|     BRL|0.00448501047580001|nintendodatabrick...|/subscriptions/da...|2025-07-24T16:15|2025-07-24|\n",
      "|     BRL|0.00448501047580001|nintendodatabrick...|/subscriptions/da...|2025-07-24T16:20|2025-07-24|\n",
      "|     BRL|0.00512901338020001|nintendodatabrick...|/subscriptions/da...|2025-07-24T16:25|2025-07-24|\n",
      "|     BRL|0.00512901338020001|nintendodatabrick...|/subscriptions/da...|2025-07-24T16:30|2025-07-24|\n",
      "|     BRL|0.00512901338020001|nintendodatabrick...|/subscriptions/da...|2025-07-24T16:35|2025-07-24|\n",
      "|     BRL|0.00512901338020001|nintendodatabrick...|/subscriptions/da...|2025-07-24T16:40|2025-07-24|\n",
      "|     BRL|0.00512901338020001|nintendodatabrick...|/subscriptions/da...|2025-07-24T16:45|2025-07-24|\n",
      "|     BRL|0.00512901338020001|nintendodatabrick...|/subscriptions/da...|2025-07-24T16:50|2025-07-24|\n",
      "|     BRL|0.00512901338020001|nintendodatabrick...|/subscriptions/da...|2025-07-24T16:55|2025-07-24|\n",
      "|     BRL|0.00512901338020001|nintendodatabrick...|/subscriptions/da...|2025-07-24T17:00|2025-07-24|\n",
      "|     BRL|0.00512901338020001|nintendodatabrick...|/subscriptions/da...|2025-07-24T17:05|2025-07-24|\n",
      "|     BRL| 0.0354387657970001|     nintendoproject|/subscriptions/da...|2025-07-24T15:53|2025-07-24|\n",
      "|     BRL| 0.0354387657970001|     nintendoproject|/subscriptions/da...|2025-07-24T15:55|2025-07-24|\n",
      "|     BRL| 0.0354387657970001|     nintendoproject|/subscriptions/da...|2025-07-24T16:00|2025-07-24|\n",
      "|     BRL| 0.0354387657970001|     nintendoproject|/subscriptions/da...|2025-07-24T16:05|2025-07-24|\n",
      "+--------+-------------------+--------------------+--------------------+----------------+----------+\n",
      "only showing top 20 rows\n",
      "\n"
     ]
    }
   ],
   "source": [
    "# Caminho inbound para os arquivos JSON no MinIO\n",
    "inbound_path = \"s3a://azurecost/inbound/*.json\"\n",
    "\n",
    "# Lendo os arquivos JSON como DataFrame\n",
    "df = spark.read.json(inbound_path)\n",
    "\n",
    "# Adiciona a coluna 'data_ref' com a data atual formatada como 'yyyy-MM-dd'\n",
    "df = df.withColumn(\"data_ref\", date_format(current_date(), \"yyyy-MM-dd\"))\n",
    "\n",
    "df.show()"
   ]
  },
  {
   "cell_type": "code",
   "execution_count": 3,
   "id": "b836b04c",
   "metadata": {},
   "outputs": [],
   "source": [
    "# Caminho S3A para os dados no formato delta na camada bronze\n",
    "bronze_path = \"s3a://azurecost/bronze\"\n",
    "\n",
    "df.write.format(\"delta\") \\\n",
    "    .mode(\"overwrite\") \\\n",
    "    .partitionBy(\"data_ref\") \\\n",
    "    .save(bronze_path)"
   ]
  }
 ],
 "metadata": {
  "kernelspec": {
   "display_name": "Python 3 (ipykernel)",
   "language": "python",
   "name": "python3"
  },
  "language_info": {
   "codemirror_mode": {
    "name": "ipython",
    "version": 3
   },
   "file_extension": ".py",
   "mimetype": "text/x-python",
   "name": "python",
   "nbconvert_exporter": "python",
   "pygments_lexer": "ipython3",
   "version": "3.11.4"
  }
 },
 "nbformat": 4,
 "nbformat_minor": 5
}
