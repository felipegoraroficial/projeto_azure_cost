{
 "cells": [
  {
   "cell_type": "code",
   "execution_count": 1,
   "id": "b7294a4f",
   "metadata": {},
   "outputs": [],
   "source": [
    "from pyspark.sql import SparkSession\n",
    "from pyspark.sql.functions import current_date, date_format\n",
    "import os\n",
    "\n",
    "DELTA_LAKE_PACKAGE = \"io.delta:delta-core_2.12:3.3.2\"\n",
    "\n",
    "spark = SparkSession.builder \\\n",
    "    .appName(\"PySpark Delta Lake MinIO Save\") \\\n",
    "    .config(\"spark.sql.extensions\", \"io.delta.sql.DeltaSparkSessionExtension\") \\\n",
    "    .config(\"spark.sql.catalog.spark_catalog\", \"org.apache.spark.sql.delta.catalog.DeltaCatalog\") \\\n",
    "    .config(\"spark.hadoop.fs.s3a.endpoint\", \"http://minio:9000\") \\\n",
    "    .config(\"spark.hadoop.fs.s3a.access.key\", os.getenv(\"KEY_ACCESS\")) \\\n",
    "    .config(\"spark.hadoop.fs.s3a.secret.key\", os.getenv(\"KEY_SECRETS\")) \\\n",
    "    .config(\"spark.hadoop.fs.s3a.path.style.access\", \"true\") \\\n",
    "    .config(\"spark.hadoop.fs.s3a.impl\", \"org.apache.hadoop.fs.s3a.S3AFileSystem\") \\\n",
    "    .config(\"spark.hadoop.fs.s3a.aws.credentials.provider\", \"org.apache.hadoop.fs.s3a.SimpleAWSCredentialsProvider\") \\\n",
    "    .getOrCreate()"
   ]
  },
  {
   "cell_type": "code",
   "execution_count": 2,
   "id": "c38057ab",
   "metadata": {},
   "outputs": [
    {
     "name": "stdout",
     "output_type": "stream",
     "text": [
      "+--------+----------------+--------------------+--------------------+----------------+----------+\n",
      "|Currency|      PreTaxCost|       ResourceGroup|          ResourceId|       UsageDate|  data_ref|\n",
      "+--------+----------------+--------------------+--------------------+----------------+----------+\n",
      "|     BRL|0.00372898934712|nintendodatabrick...|/subscriptions/da...|2025-08-02T20:27|2025-08-03|\n",
      "|     BRL|0.00372898934712|nintendodatabrick...|/subscriptions/da...|2025-08-02T20:35|2025-08-03|\n",
      "|     BRL|0.00372898934712|nintendodatabrick...|/subscriptions/da...|2025-08-02T20:40|2025-08-03|\n",
      "|     BRL|0.00372898934712|nintendodatabrick...|/subscriptions/da...|2025-08-02T20:45|2025-08-03|\n",
      "|     BRL|0.00372898934712|nintendodatabrick...|/subscriptions/da...|2025-08-02T20:50|2025-08-03|\n",
      "|     BRL|0.00372898934712|nintendodatabrick...|/subscriptions/da...|2025-08-02T20:55|2025-08-03|\n",
      "|     BRL|0.00372898934712|nintendodatabrick...|/subscriptions/da...|2025-08-02T21:00|2025-08-03|\n",
      "|     BRL|0.00379383740604|nintendodatabrick...|/subscriptions/da...|2025-08-02T21:05|2025-08-03|\n",
      "|     BRL|0.00379383740604|nintendodatabrick...|/subscriptions/da...|2025-08-02T21:10|2025-08-03|\n",
      "|     BRL|0.00379383740604|nintendodatabrick...|/subscriptions/da...|2025-08-02T21:15|2025-08-03|\n",
      "|     BRL|0.00379383740604|nintendodatabrick...|/subscriptions/da...|2025-08-02T21:20|2025-08-03|\n",
      "|     BRL|0.00379383740604|nintendodatabrick...|/subscriptions/da...|2025-08-02T21:25|2025-08-03|\n",
      "|     BRL|0.00379383740604|nintendodatabrick...|/subscriptions/da...|2025-08-02T21:30|2025-08-03|\n",
      "|     BRL|0.00379383740604|nintendodatabrick...|/subscriptions/da...|2025-08-02T21:35|2025-08-03|\n",
      "|     BRL|0.00385868546496|nintendodatabrick...|/subscriptions/da...|2025-08-02T21:40|2025-08-03|\n",
      "|     BRL|0.00385868546496|nintendodatabrick...|/subscriptions/da...|2025-08-02T21:45|2025-08-03|\n",
      "|     BRL|0.00385868546496|nintendodatabrick...|/subscriptions/da...|2025-08-02T21:50|2025-08-03|\n",
      "|     BRL|0.00385868546496|nintendodatabrick...|/subscriptions/da...|2025-08-02T21:55|2025-08-03|\n",
      "|     BRL|0.00385868546496|nintendodatabrick...|/subscriptions/da...|2025-08-02T22:00|2025-08-03|\n",
      "|     BRL| 0.0479156369778|     nintendoproject|/subscriptions/da...|2025-08-02T20:27|2025-08-03|\n",
      "+--------+----------------+--------------------+--------------------+----------------+----------+\n",
      "only showing top 20 rows\n",
      "\n"
     ]
    }
   ],
   "source": [
    "# Caminho inbound para os arquivos JSON no MinIO\n",
    "inbound_path = \"s3a://azurecost/inbound/*.json\"\n",
    "\n",
    "# Lendo os arquivos JSON como DataFrame\n",
    "df_new = spark.read.json(inbound_path)\n",
    "\n",
    "# Adiciona a coluna 'data_ref' com a data atual formatada como 'yyyy-MM-dd'\n",
    "df_new = df_new.withColumn(\"data_ref\", date_format(current_date(), \"yyyy-MM-dd\"))\n",
    "\n",
    "df_new.show()"
   ]
  },
  {
   "cell_type": "code",
   "execution_count": 3,
   "id": "4fa8f788",
   "metadata": {},
   "outputs": [
    {
     "name": "stdout",
     "output_type": "stream",
     "text": [
      "+--------+----------+---------------+------------------------------------------------------------------------------------------------------------------------------+----------------+----------+\n",
      "|Currency|PreTaxCost|ResourceGroup  |ResourceId                                                                                                                    |UsageDate       |data_ref  |\n",
      "+--------+----------+---------------+------------------------------------------------------------------------------------------------------------------------------+----------------+----------+\n",
      "|BRL     |0.0       |nintendoproject|/subscriptions/da483b95-1caf-404c-bfe4-36abef87f6e6/resourcegroups/nintendoproject/providers/microsoft.web/sites/appfuncmagalu|2025-08-02T21:05|2025-08-02|\n",
      "|BRL     |0.0       |nintendoproject|/subscriptions/da483b95-1caf-404c-bfe4-36abef87f6e6/resourcegroups/nintendoproject/providers/microsoft.web/sites/appfuncmagalu|2025-08-02T21:10|2025-08-02|\n",
      "|BRL     |0.0       |nintendoproject|/subscriptions/da483b95-1caf-404c-bfe4-36abef87f6e6/resourcegroups/nintendoproject/providers/microsoft.web/sites/appfuncmagalu|2025-08-02T21:15|2025-08-02|\n",
      "|BRL     |0.0       |nintendoproject|/subscriptions/da483b95-1caf-404c-bfe4-36abef87f6e6/resourcegroups/nintendoproject/providers/microsoft.web/sites/appfuncmagalu|2025-08-02T21:20|2025-08-02|\n",
      "|BRL     |0.0       |nintendoproject|/subscriptions/da483b95-1caf-404c-bfe4-36abef87f6e6/resourcegroups/nintendoproject/providers/microsoft.web/sites/appfuncmagalu|2025-08-02T21:25|2025-08-02|\n",
      "|BRL     |0.0       |nintendoproject|/subscriptions/da483b95-1caf-404c-bfe4-36abef87f6e6/resourcegroups/nintendoproject/providers/microsoft.web/sites/appfuncmagalu|2025-08-02T21:30|2025-08-02|\n",
      "|BRL     |0.0       |nintendoproject|/subscriptions/da483b95-1caf-404c-bfe4-36abef87f6e6/resourcegroups/nintendoproject/providers/microsoft.web/sites/appfuncmagalu|2025-08-02T21:35|2025-08-02|\n",
      "|BRL     |0.0       |nintendoproject|/subscriptions/da483b95-1caf-404c-bfe4-36abef87f6e6/resourcegroups/nintendoproject/providers/microsoft.web/sites/appfuncmagalu|2025-08-02T21:40|2025-08-02|\n",
      "|BRL     |0.0       |nintendoproject|/subscriptions/da483b95-1caf-404c-bfe4-36abef87f6e6/resourcegroups/nintendoproject/providers/microsoft.web/sites/appfuncmagalu|2025-08-02T21:45|2025-08-02|\n",
      "|BRL     |0.0       |nintendoproject|/subscriptions/da483b95-1caf-404c-bfe4-36abef87f6e6/resourcegroups/nintendoproject/providers/microsoft.web/sites/appfuncmagalu|2025-08-02T21:50|2025-08-02|\n",
      "|BRL     |0.0       |nintendoproject|/subscriptions/da483b95-1caf-404c-bfe4-36abef87f6e6/resourcegroups/nintendoproject/providers/microsoft.web/sites/appfuncmagalu|2025-08-02T21:55|2025-08-02|\n",
      "|BRL     |0.0       |nintendoproject|/subscriptions/da483b95-1caf-404c-bfe4-36abef87f6e6/resourcegroups/nintendoproject/providers/microsoft.web/sites/appfuncmagalu|2025-08-02T22:00|2025-08-02|\n",
      "|BRL     |0.0       |nintendoproject|/subscriptions/da483b95-1caf-404c-bfe4-36abef87f6e6/resourcegroups/nintendoproject/providers/microsoft.web/sites/appfunckabum |2025-08-02T20:27|2025-08-02|\n",
      "|BRL     |0.0       |nintendoproject|/subscriptions/da483b95-1caf-404c-bfe4-36abef87f6e6/resourcegroups/nintendoproject/providers/microsoft.web/sites/appfunckabum |2025-08-02T20:35|2025-08-02|\n",
      "|BRL     |0.0       |nintendoproject|/subscriptions/da483b95-1caf-404c-bfe4-36abef87f6e6/resourcegroups/nintendoproject/providers/microsoft.web/sites/appfunckabum |2025-08-02T20:40|2025-08-02|\n",
      "|BRL     |0.0       |nintendoproject|/subscriptions/da483b95-1caf-404c-bfe4-36abef87f6e6/resourcegroups/nintendoproject/providers/microsoft.web/sites/appfunckabum |2025-08-02T20:45|2025-08-02|\n",
      "|BRL     |0.0       |nintendoproject|/subscriptions/da483b95-1caf-404c-bfe4-36abef87f6e6/resourcegroups/nintendoproject/providers/microsoft.web/sites/appfunckabum |2025-08-02T20:50|2025-08-02|\n",
      "|BRL     |0.0       |nintendoproject|/subscriptions/da483b95-1caf-404c-bfe4-36abef87f6e6/resourcegroups/nintendoproject/providers/microsoft.web/sites/appfunckabum |2025-08-02T20:55|2025-08-02|\n",
      "|BRL     |0.0       |nintendoproject|/subscriptions/da483b95-1caf-404c-bfe4-36abef87f6e6/resourcegroups/nintendoproject/providers/microsoft.web/sites/appfunckabum |2025-08-02T21:00|2025-08-02|\n",
      "|BRL     |0.0       |nintendoproject|/subscriptions/da483b95-1caf-404c-bfe4-36abef87f6e6/resourcegroups/nintendoproject/providers/microsoft.web/sites/appfunckabum |2025-08-02T21:05|2025-08-02|\n",
      "+--------+----------+---------------+------------------------------------------------------------------------------------------------------------------------------+----------------+----------+\n",
      "only showing top 20 rows\n",
      "\n"
     ]
    }
   ],
   "source": [
    "# Caminho para a tabela Delta (no seu MinIO)\n",
    "bronze_path = \"s3a://azurecost/bronze\"\n",
    "\n",
    "# Lê os dados somente da última partição\n",
    "df_old = spark.read.format(\"delta\").load(bronze_path)\n",
    "\n",
    "df_old.show(truncate=False)"
   ]
  },
  {
   "cell_type": "code",
   "execution_count": 5,
   "id": "b6651a1e",
   "metadata": {},
   "outputs": [
    {
     "name": "stdout",
     "output_type": "stream",
     "text": [
      "+--------+----------------+-------------------------------------+---------------------------------------------------------------------------------------------------------------------------------------------------------------------------+----------------+----------+\n",
      "|Currency|PreTaxCost      |ResourceGroup                        |ResourceId                                                                                                                                                                 |UsageDate       |data_ref  |\n",
      "+--------+----------------+-------------------------------------+---------------------------------------------------------------------------------------------------------------------------------------------------------------------------+----------------+----------+\n",
      "|BRL     |0.00372898934712|nintendodatabrickswi86no-workspace-rg|/subscriptions/da483b95-1caf-404c-bfe4-36abef87f6e6/resourcegroups/nintendodatabrickswi86no-workspace-rg/providers/microsoft.storage/storageaccounts/dbstorage7ifgyhjijpdgi|2025-08-02T21:00|2025-08-03|\n",
      "|BRL     |0.00379383740604|nintendodatabrickswi86no-workspace-rg|/subscriptions/da483b95-1caf-404c-bfe4-36abef87f6e6/resourcegroups/nintendodatabrickswi86no-workspace-rg/providers/microsoft.storage/storageaccounts/dbstorage7ifgyhjijpdgi|2025-08-02T21:25|2025-08-03|\n",
      "|BRL     |0.00379383740604|nintendodatabrickswi86no-workspace-rg|/subscriptions/da483b95-1caf-404c-bfe4-36abef87f6e6/resourcegroups/nintendodatabrickswi86no-workspace-rg/providers/microsoft.storage/storageaccounts/dbstorage7ifgyhjijpdgi|2025-08-02T21:10|2025-08-03|\n",
      "|BRL     |0.00372898934712|nintendodatabrickswi86no-workspace-rg|/subscriptions/da483b95-1caf-404c-bfe4-36abef87f6e6/resourcegroups/nintendodatabrickswi86no-workspace-rg/providers/microsoft.storage/storageaccounts/dbstorage7ifgyhjijpdgi|2025-08-02T20:50|2025-08-03|\n",
      "|BRL     |0.00372898934712|nintendodatabrickswi86no-workspace-rg|/subscriptions/da483b95-1caf-404c-bfe4-36abef87f6e6/resourcegroups/nintendodatabrickswi86no-workspace-rg/providers/microsoft.storage/storageaccounts/dbstorage7ifgyhjijpdgi|2025-08-02T20:55|2025-08-03|\n",
      "|BRL     |0.00379383740604|nintendodatabrickswi86no-workspace-rg|/subscriptions/da483b95-1caf-404c-bfe4-36abef87f6e6/resourcegroups/nintendodatabrickswi86no-workspace-rg/providers/microsoft.storage/storageaccounts/dbstorage7ifgyhjijpdgi|2025-08-02T21:15|2025-08-03|\n",
      "|BRL     |0.00379383740604|nintendodatabrickswi86no-workspace-rg|/subscriptions/da483b95-1caf-404c-bfe4-36abef87f6e6/resourcegroups/nintendodatabrickswi86no-workspace-rg/providers/microsoft.storage/storageaccounts/dbstorage7ifgyhjijpdgi|2025-08-02T21:20|2025-08-03|\n",
      "|BRL     |0.00379383740604|nintendodatabrickswi86no-workspace-rg|/subscriptions/da483b95-1caf-404c-bfe4-36abef87f6e6/resourcegroups/nintendodatabrickswi86no-workspace-rg/providers/microsoft.storage/storageaccounts/dbstorage7ifgyhjijpdgi|2025-08-02T21:05|2025-08-03|\n",
      "|BRL     |0.00372898934712|nintendodatabrickswi86no-workspace-rg|/subscriptions/da483b95-1caf-404c-bfe4-36abef87f6e6/resourcegroups/nintendodatabrickswi86no-workspace-rg/providers/microsoft.storage/storageaccounts/dbstorage7ifgyhjijpdgi|2025-08-02T20:40|2025-08-03|\n",
      "|BRL     |0.00372898934712|nintendodatabrickswi86no-workspace-rg|/subscriptions/da483b95-1caf-404c-bfe4-36abef87f6e6/resourcegroups/nintendodatabrickswi86no-workspace-rg/providers/microsoft.storage/storageaccounts/dbstorage7ifgyhjijpdgi|2025-08-02T20:35|2025-08-03|\n",
      "|BRL     |0.00372898934712|nintendodatabrickswi86no-workspace-rg|/subscriptions/da483b95-1caf-404c-bfe4-36abef87f6e6/resourcegroups/nintendodatabrickswi86no-workspace-rg/providers/microsoft.storage/storageaccounts/dbstorage7ifgyhjijpdgi|2025-08-02T20:45|2025-08-03|\n",
      "|BRL     |0.00372898934712|nintendodatabrickswi86no-workspace-rg|/subscriptions/da483b95-1caf-404c-bfe4-36abef87f6e6/resourcegroups/nintendodatabrickswi86no-workspace-rg/providers/microsoft.storage/storageaccounts/dbstorage7ifgyhjijpdgi|2025-08-02T20:27|2025-08-03|\n",
      "|BRL     |0.0479156369778 |nintendoproject                      |/subscriptions/da483b95-1caf-404c-bfe4-36abef87f6e6/resourcegroups/nintendoproject/providers/microsoft.storage/storageaccounts/nintendostorageaccount                      |2025-08-02T20:35|2025-08-03|\n",
      "|BRL     |0.0479156369778 |nintendoproject                      |/subscriptions/da483b95-1caf-404c-bfe4-36abef87f6e6/resourcegroups/nintendoproject/providers/microsoft.storage/storageaccounts/nintendostorageaccount                      |2025-08-02T20:50|2025-08-03|\n",
      "|BRL     |0.00385868546496|nintendodatabrickswi86no-workspace-rg|/subscriptions/da483b95-1caf-404c-bfe4-36abef87f6e6/resourcegroups/nintendodatabrickswi86no-workspace-rg/providers/microsoft.storage/storageaccounts/dbstorage7ifgyhjijpdgi|2025-08-02T21:45|2025-08-03|\n",
      "|BRL     |0.00385868546496|nintendodatabrickswi86no-workspace-rg|/subscriptions/da483b95-1caf-404c-bfe4-36abef87f6e6/resourcegroups/nintendodatabrickswi86no-workspace-rg/providers/microsoft.storage/storageaccounts/dbstorage7ifgyhjijpdgi|2025-08-02T21:40|2025-08-03|\n",
      "|BRL     |0.0479156369778 |nintendoproject                      |/subscriptions/da483b95-1caf-404c-bfe4-36abef87f6e6/resourcegroups/nintendoproject/providers/microsoft.storage/storageaccounts/nintendostorageaccount                      |2025-08-02T20:40|2025-08-03|\n",
      "|BRL     |0.00385868546496|nintendodatabrickswi86no-workspace-rg|/subscriptions/da483b95-1caf-404c-bfe4-36abef87f6e6/resourcegroups/nintendodatabrickswi86no-workspace-rg/providers/microsoft.storage/storageaccounts/dbstorage7ifgyhjijpdgi|2025-08-02T21:55|2025-08-03|\n",
      "|BRL     |0.00379383740604|nintendodatabrickswi86no-workspace-rg|/subscriptions/da483b95-1caf-404c-bfe4-36abef87f6e6/resourcegroups/nintendodatabrickswi86no-workspace-rg/providers/microsoft.storage/storageaccounts/dbstorage7ifgyhjijpdgi|2025-08-02T21:30|2025-08-03|\n",
      "|BRL     |0.00379383740604|nintendodatabrickswi86no-workspace-rg|/subscriptions/da483b95-1caf-404c-bfe4-36abef87f6e6/resourcegroups/nintendodatabrickswi86no-workspace-rg/providers/microsoft.storage/storageaccounts/dbstorage7ifgyhjijpdgi|2025-08-02T21:35|2025-08-03|\n",
      "+--------+----------------+-------------------------------------+---------------------------------------------------------------------------------------------------------------------------------------------------------------------------+----------------+----------+\n",
      "only showing top 20 rows\n",
      "\n"
     ]
    }
   ],
   "source": [
    "df_combined = df_new.unionByName(df_old)\n",
    "\n",
    "df_incremental = df_combined.dropDuplicates()\n",
    "\n",
    "\n",
    "df_incremental.show(truncate=False)"
   ]
  },
  {
   "cell_type": "code",
   "execution_count": 6,
   "id": "b836b04c",
   "metadata": {},
   "outputs": [],
   "source": [
    "# Caminho S3A para os dados no formato delta na camada bronze\n",
    "bronze_path = \"s3a://azurecost/bronze\"\n",
    "\n",
    "df_incremental.write.format(\"delta\") \\\n",
    "    .mode(\"overwrite\") \\\n",
    "    .partitionBy(\"data_ref\") \\\n",
    "    .save(bronze_path)"
   ]
  }
 ],
 "metadata": {
  "kernelspec": {
   "display_name": "Python 3 (ipykernel)",
   "language": "python",
   "name": "python3"
  },
  "language_info": {
   "codemirror_mode": {
    "name": "ipython",
    "version": 3
   },
   "file_extension": ".py",
   "mimetype": "text/x-python",
   "name": "python",
   "nbconvert_exporter": "python",
   "pygments_lexer": "ipython3",
   "version": "3.11.4"
  }
 },
 "nbformat": 4,
 "nbformat_minor": 5
}
