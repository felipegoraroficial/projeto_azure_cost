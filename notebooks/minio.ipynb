{
 "cells": [
  {
   "cell_type": "code",
   "execution_count": 1,
   "id": "f779c8c1",
   "metadata": {},
   "outputs": [
    {
     "name": "stdout",
     "output_type": "stream",
     "text": [
      "Deletando: inbound/appfunckabum_2025_08_01_17_45.json\n",
      "Deletando: inbound/appfunckabum_2025_08_01_17_50.json\n",
      "Deletando: inbound/appfunckabum_2025_08_01_17_55.json\n",
      "Deletando: inbound/appfunckabum_2025_08_01_18_00.json\n",
      "Deletando: inbound/appfunckabum_2025_08_01_18_05.json\n",
      "Deletando: inbound/appfunckabum_2025_08_01_18_10.json\n",
      "Deletando: inbound/appfuncmagalu_2025_08_01_17_45.json\n",
      "Deletando: inbound/appfuncmagalu_2025_08_01_17_50.json\n",
      "Deletando: inbound/appfuncmagalu_2025_08_01_17_55.json\n",
      "Deletando: inbound/appfuncmagalu_2025_08_01_18_00.json\n",
      "Deletando: inbound/appfuncmagalu_2025_08_01_18_05.json\n",
      "Deletando: inbound/appfuncmagalu_2025_08_01_18_10.json\n",
      "Deletando: inbound/dbstorage7ifgyhjijpdgi_2025_08_01_17_45.json\n",
      "Deletando: inbound/dbstorage7ifgyhjijpdgi_2025_08_01_17_50.json\n",
      "Deletando: inbound/dbstorage7ifgyhjijpdgi_2025_08_01_17_55.json\n",
      "Deletando: inbound/dbstorage7ifgyhjijpdgi_2025_08_01_18_00.json\n",
      "Deletando: inbound/dbstorage7ifgyhjijpdgi_2025_08_01_18_05.json\n",
      "Deletando: inbound/dbstorage7ifgyhjijpdgi_2025_08_01_18_10.json\n",
      "Deletando: inbound/nintendoservplan_2025_08_01_17_45.json\n",
      "Deletando: inbound/nintendoservplan_2025_08_01_17_50.json\n",
      "Deletando: inbound/nintendoservplan_2025_08_01_17_55.json\n",
      "Deletando: inbound/nintendoservplan_2025_08_01_18_00.json\n",
      "Deletando: inbound/nintendoservplan_2025_08_01_18_05.json\n",
      "Deletando: inbound/nintendoservplan_2025_08_01_18_10.json\n",
      "Deletando: inbound/nintendostorageaccount_2025_08_01_17_45.json\n",
      "Deletando: inbound/nintendostorageaccount_2025_08_01_17_50.json\n",
      "Deletando: inbound/nintendostorageaccount_2025_08_01_17_55.json\n",
      "Deletando: inbound/nintendostorageaccount_2025_08_01_18_00.json\n",
      "Deletando: inbound/nintendostorageaccount_2025_08_01_18_05.json\n",
      "Deletando: inbound/nintendostorageaccount_2025_08_01_18_10.json\n"
     ]
    }
   ],
   "source": [
    "from minio import Minio\n",
    "import os\n",
    "from datetime import datetime, timezone, timedelta\n",
    "\n",
    "# Configure o cliente MinIO\n",
    "minio_client = Minio(\n",
    "    \"minio:9000\",\n",
    "    access_key=os.getenv(\"KEY_ACCESS\"),\n",
    "    secret_key=os.getenv(\"KEY_SECRETS\"),\n",
    "    secure=False,\n",
    ")\n",
    "\n",
    "bucket_name = \"azurecost\"\n",
    "prefix = \"inbound/\"\n",
    "\n",
    "# Calcula a hora limite (1 hora atrás)\n",
    "hora_limite = datetime.now(timezone.utc) - timedelta(hours=1)\n",
    "\n",
    "# Lista todos os objetos no prefixo 'inbound/'\n",
    "objects = minio_client.list_objects(bucket_name, prefix=prefix, recursive=True)\n",
    "\n",
    "for obj in objects:\n",
    "    # Filtra por arquivos .json\n",
    "    if obj.object_name.endswith(\".json\"):\n",
    "        # Verifica se o arquivo foi modificado há mais de uma hora\n",
    "        if obj.last_modified < hora_limite:\n",
    "            print(f\"Deletando: {obj.object_name}\")\n",
    "            minio_client.remove_object(bucket_name, obj.object_name)\n"
   ]
  }
 ],
 "metadata": {
  "kernelspec": {
   "display_name": "Python 3 (ipykernel)",
   "language": "python",
   "name": "python3"
  },
  "language_info": {
   "codemirror_mode": {
    "name": "ipython",
    "version": 3
   },
   "file_extension": ".py",
   "mimetype": "text/x-python",
   "name": "python",
   "nbconvert_exporter": "python",
   "pygments_lexer": "ipython3",
   "version": "3.11.4"
  }
 },
 "nbformat": 4,
 "nbformat_minor": 5
}
