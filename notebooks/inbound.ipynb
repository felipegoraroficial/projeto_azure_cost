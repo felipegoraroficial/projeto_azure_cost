{
 "cells": [
  {
   "cell_type": "code",
   "execution_count": 48,
   "id": "2aff73c1",
   "metadata": {},
   "outputs": [],
   "source": [
    "import requests\n",
    "import json\n",
    "from dotenv import load_dotenv\n",
    "import os\n",
    "from datetime import datetime, timezone, timedelta\n",
    "from kafka import KafkaConsumer\n",
    "from minio import Minio\n",
    "from minio.error import S3Error\n",
    "from io import BytesIO"
   ]
  },
  {
   "cell_type": "code",
   "execution_count": 40,
   "id": "f0fe01c3",
   "metadata": {},
   "outputs": [],
   "source": [
    "# Carrega as variáveis de ambiente do arquivo .env localizado no diretório atual\n",
    "env_path = os.path.join(os.getcwd(), '.env')\n",
    "load_dotenv(dotenv_path=env_path)\n",
    "\n",
    "# Recupera as credenciais e informações necessárias do ambiente\n",
    "client_id = os.getenv('CLIENT_ID')\n",
    "client_secret = os.getenv('CLIENT_SECRET')\n",
    "tenant_id = os.getenv('TENANT_ID')\n",
    "subscription_id = os.getenv('SUBSCRIPTION_ID')"
   ]
  },
  {
   "cell_type": "code",
   "execution_count": 41,
   "id": "e2afe44a",
   "metadata": {},
   "outputs": [],
   "source": [
    "# Obtém o horário atual em UTC\n",
    "agora_utc = datetime.now(timezone.utc)\n",
    "\n",
    "# Formata a data/hora atual para o padrão ISO sem os segundos (ex: '2025-07-11T18:17')\n",
    "data_atual = agora_utc.strftime('%Y-%m-%dT%H:%M')\n",
    "\n",
    "# Calcula o horário de dois minutos atrás\n",
    "dois_minutos_atras = agora_utc - timedelta(minutes=2)\n",
    "\n",
    "# Formata a data/hora de dois minutos atrás\n",
    "data_dois_minutos_atras = dois_minutos_atras.strftime('%Y-%m-%dT%H:%M')"
   ]
  },
  {
   "cell_type": "code",
   "execution_count": 42,
   "id": "f5951a22",
   "metadata": {},
   "outputs": [],
   "source": [
    "# Monta a URL para obter o token de autenticação do Azure AD\n",
    "auth_url = f\"https://login.microsoftonline.com/{tenant_id}/oauth2/token\"\n",
    "auth_data = {\n",
    "    \"grant_type\": \"client_credentials\",\n",
    "    \"client_id\": client_id,\n",
    "    \"client_secret\": client_secret,\n",
    "    \"resource\": \"https://management.azure.com/\"\n",
    "}\n",
    "\n",
    "# Monta a URL para consultar os custos na API do Azure Cost Management\n",
    "costs_url = f\"https://management.azure.com/subscriptions/{subscription_id}/providers/Microsoft.CostManagement/query?api-version=2021-10-01\"\n",
    "headers = {\"Content-Type\": \"application/json\"}"
   ]
  },
  {
   "cell_type": "code",
   "execution_count": 43,
   "id": "2f2ecf30",
   "metadata": {},
   "outputs": [],
   "source": [
    "# Define o corpo da consulta para buscar os custos agrupados por Resource Group e ResourceId, no intervalo dos últimos 2 minutos\n",
    "query_body = {\n",
    "    \"type\": \"Usage\",\n",
    "    \"timeframe\": \"Custom\",\n",
    "    \"timePeriod\": {\n",
    "        \"from\": f\"{data_dois_minutos_atras}:00Z\",  # início do intervalo\n",
    "        \"to\": f\"{data_atual}:59Z\"                   # fim do intervalo\n",
    "    },\n",
    "    \"dataset\": {\n",
    "        \"granularity\": \"Daily\",\n",
    "        \"grouping\": [\n",
    "            {\"type\": \"Dimension\", \"name\": \"ResourceGroup\"},\n",
    "            {\"type\": \"Dimension\", \"name\": \"ResourceId\"}\n",
    "        ],\n",
    "        \"aggregation\": {\n",
    "            \"totalCost\": {\n",
    "                \"name\": \"PreTaxCost\",\n",
    "                \"function\": \"Sum\"\n",
    "            }\n",
    "        }\n",
    "    }\n",
    "}"
   ]
  },
  {
   "cell_type": "code",
   "execution_count": 44,
   "id": "08614b5c",
   "metadata": {},
   "outputs": [
    {
     "ename": "HTTPError",
     "evalue": "429 Client Error: Too Many Requests for url: https://management.azure.com/subscriptions/da483b95-1caf-404c-bfe4-36abef87f6e6/providers/Microsoft.CostManagement/query?api-version=2021-10-01",
     "output_type": "error",
     "traceback": [
      "\u001b[0;31m---------------------------------------------------------------------------\u001b[0m",
      "\u001b[0;31mHTTPError\u001b[0m                                 Traceback (most recent call last)",
      "Cell \u001b[0;32mIn[44], line 8\u001b[0m\n\u001b[1;32m      6\u001b[0m \u001b[38;5;66;03m# Faz a requisição para obter os dados de custo do Azure\u001b[39;00m\n\u001b[1;32m      7\u001b[0m response \u001b[38;5;241m=\u001b[39m requests\u001b[38;5;241m.\u001b[39mpost(costs_url, headers\u001b[38;5;241m=\u001b[39mheaders, json\u001b[38;5;241m=\u001b[39mquery_body)\n\u001b[0;32m----> 8\u001b[0m \u001b[43mresponse\u001b[49m\u001b[38;5;241;43m.\u001b[39;49m\u001b[43mraise_for_status\u001b[49m\u001b[43m(\u001b[49m\u001b[43m)\u001b[49m\n\u001b[1;32m      9\u001b[0m cost_data \u001b[38;5;241m=\u001b[39m response\u001b[38;5;241m.\u001b[39mjson()\n\u001b[1;32m     11\u001b[0m \u001b[38;5;28mprint\u001b[39m(\u001b[38;5;124m\"\u001b[39m\u001b[38;5;124mDados de custo extraídos com sucesso.\u001b[39m\u001b[38;5;124m\"\u001b[39m)\n",
      "File \u001b[0;32m/opt/conda/lib/python3.11/site-packages/requests/models.py:1021\u001b[0m, in \u001b[0;36mResponse.raise_for_status\u001b[0;34m(self)\u001b[0m\n\u001b[1;32m   1016\u001b[0m     http_error_msg \u001b[38;5;241m=\u001b[39m (\n\u001b[1;32m   1017\u001b[0m         \u001b[38;5;124mf\u001b[39m\u001b[38;5;124m\"\u001b[39m\u001b[38;5;132;01m{\u001b[39;00m\u001b[38;5;28mself\u001b[39m\u001b[38;5;241m.\u001b[39mstatus_code\u001b[38;5;132;01m}\u001b[39;00m\u001b[38;5;124m Server Error: \u001b[39m\u001b[38;5;132;01m{\u001b[39;00mreason\u001b[38;5;132;01m}\u001b[39;00m\u001b[38;5;124m for url: \u001b[39m\u001b[38;5;132;01m{\u001b[39;00m\u001b[38;5;28mself\u001b[39m\u001b[38;5;241m.\u001b[39murl\u001b[38;5;132;01m}\u001b[39;00m\u001b[38;5;124m\"\u001b[39m\n\u001b[1;32m   1018\u001b[0m     )\n\u001b[1;32m   1020\u001b[0m \u001b[38;5;28;01mif\u001b[39;00m http_error_msg:\n\u001b[0;32m-> 1021\u001b[0m     \u001b[38;5;28;01mraise\u001b[39;00m HTTPError(http_error_msg, response\u001b[38;5;241m=\u001b[39m\u001b[38;5;28mself\u001b[39m)\n",
      "\u001b[0;31mHTTPError\u001b[0m: 429 Client Error: Too Many Requests for url: https://management.azure.com/subscriptions/da483b95-1caf-404c-bfe4-36abef87f6e6/providers/Microsoft.CostManagement/query?api-version=2021-10-01"
     ]
    }
   ],
   "source": [
    "response = requests.post(auth_url, data=auth_data)\n",
    "response.raise_for_status()  # Lança exceção se houver erro HTTP\n",
    "token = response.json()[\"access_token\"]\n",
    "headers[\"Authorization\"] = f\"Bearer {token}\"  # Adiciona o token ao header\n",
    "\n",
    "# Faz a requisição para obter os dados de custo do Azure\n",
    "response = requests.post(costs_url, headers=headers, json=query_body)\n",
    "response.raise_for_status()\n",
    "cost_data = response.json()\n",
    "\n",
    "print(\"Dados de custo extraídos com sucesso.\")"
   ]
  },
  {
   "cell_type": "code",
   "execution_count": 45,
   "id": "80fd430e",
   "metadata": {},
   "outputs": [
    {
     "name": "stdout",
     "output_type": "stream",
     "text": [
      "['PreTaxCost', 'UsageDate', 'ResourceGroup', 'ResourceId', 'Currency']\n",
      "[0.00756989439480001, '2025-07-15T00:08', 'nintendodatabrickswi86no-workspace-rg', '/subscriptions/da483b95-1caf-404c-bfe4-36abef87f6e6/resourcegroups/nintendodatabrickswi86no-workspace-rg/providers/microsoft.storage/storageaccounts/dbstorage7ifgyhjijpdgi', 'BRL']\n",
      "[0.0590212689300001, '2025-07-15T00:08', 'nintendoproject', '/subscriptions/da483b95-1caf-404c-bfe4-36abef87f6e6/resourcegroups/nintendoproject/providers/microsoft.storage/storageaccounts/nintendostorageaccount', 'BRL']\n",
      "[0.0, '2025-07-15T00:08', 'nintendoproject', '/subscriptions/da483b95-1caf-404c-bfe4-36abef87f6e6/resourcegroups/nintendoproject/providers/microsoft.web/sites/appfunckabum', 'BRL']\n",
      "[0.0, '2025-07-15T00:08', 'nintendoproject', '/subscriptions/da483b95-1caf-404c-bfe4-36abef87f6e6/resourcegroups/nintendoproject/providers/microsoft.web/sites/appfuncmagalu', 'BRL']\n"
     ]
    }
   ],
   "source": [
    "# Verifica se a resposta possui os dados esperados\n",
    "if cost_data and \"properties\" in cost_data and \"rows\" in cost_data[\"properties\"] and \"columns\" in cost_data[\"properties\"]:\n",
    "    columns = [col[\"name\"] for col in cost_data[\"properties\"][\"columns\"]]\n",
    "    print(columns)\n",
    "    idx_data = columns.index('UsageDate')\n",
    "    documents_to_send = []\n",
    "    # Para cada linha de dados, cria um dicionário associando coluna e valor\n",
    "    for row in cost_data[\"properties\"][\"rows\"]:\n",
    "        row[idx_data] = data_atual\n",
    "        print(row)\n",
    "        document = dict(zip(columns, row))\n",
    "        documents_to_send.append(document)"
   ]
  },
  {
   "cell_type": "code",
   "execution_count": null,
   "id": "6f255171",
   "metadata": {},
   "outputs": [],
   "source": [
    "# Configuração do consumidor Kafka para ouvir o tópico 'api-topic'\n",
    "consumer = KafkaConsumer(\n",
    "    'api-topic',  # Nome do tópico Kafka\n",
    "    bootstrap_servers=['kafka1:19091'],  # Endereço do servidor Kafka\n",
    "    value_deserializer=lambda v: json.loads(v.decode('utf-8')),  # Deserializa as mensagens recebidas de JSON\n",
    "    auto_offset_reset='latest',  # Começa a consumir a partir da última mensagem disponível\n",
    "    enable_auto_commit=True  # Confirma automaticamente o offset das mensagens lidas\n",
    ")"
   ]
  },
  {
   "cell_type": "code",
   "execution_count": null,
   "id": "b3af4615",
   "metadata": {},
   "outputs": [
    {
     "ename": "KeyboardInterrupt",
     "evalue": "",
     "output_type": "error",
     "traceback": [
      "\u001b[0;31m---------------------------------------------------------------------------\u001b[0m",
      "\u001b[0;31mKeyboardInterrupt\u001b[0m                         Traceback (most recent call last)",
      "Cell \u001b[0;32mIn[33], line 1\u001b[0m\n\u001b[0;32m----> 1\u001b[0m \u001b[38;5;28;01mfor\u001b[39;00m message \u001b[38;5;129;01min\u001b[39;00m consumer:\n\u001b[1;32m      2\u001b[0m     data \u001b[38;5;241m=\u001b[39m message\u001b[38;5;241m.\u001b[39mvalue\n\u001b[1;32m      3\u001b[0m     \u001b[38;5;28mprint\u001b[39m(\u001b[38;5;124m\"\u001b[39m\u001b[38;5;124mMensagem recebida:\u001b[39m\u001b[38;5;124m\"\u001b[39m, data)\n",
      "File \u001b[0;32m/opt/conda/lib/python3.11/site-packages/kafka/consumer/group.py:1188\u001b[0m, in \u001b[0;36mKafkaConsumer.__next__\u001b[0;34m(self)\u001b[0m\n\u001b[1;32m   1186\u001b[0m     \u001b[38;5;28mself\u001b[39m\u001b[38;5;241m.\u001b[39m_iterator \u001b[38;5;241m=\u001b[39m \u001b[38;5;28mself\u001b[39m\u001b[38;5;241m.\u001b[39m_message_generator_v2()\n\u001b[1;32m   1187\u001b[0m \u001b[38;5;28;01mtry\u001b[39;00m:\n\u001b[0;32m-> 1188\u001b[0m     \u001b[38;5;28;01mreturn\u001b[39;00m \u001b[38;5;28mnext\u001b[39m(\u001b[38;5;28mself\u001b[39m\u001b[38;5;241m.\u001b[39m_iterator)\n\u001b[1;32m   1189\u001b[0m \u001b[38;5;28;01mexcept\u001b[39;00m \u001b[38;5;167;01mStopIteration\u001b[39;00m:\n\u001b[1;32m   1190\u001b[0m     \u001b[38;5;28mself\u001b[39m\u001b[38;5;241m.\u001b[39m_iterator \u001b[38;5;241m=\u001b[39m \u001b[38;5;28;01mNone\u001b[39;00m\n",
      "File \u001b[0;32m/opt/conda/lib/python3.11/site-packages/kafka/consumer/group.py:1160\u001b[0m, in \u001b[0;36mKafkaConsumer._message_generator_v2\u001b[0;34m(self)\u001b[0m\n\u001b[1;32m   1158\u001b[0m \u001b[38;5;28;01mdef\u001b[39;00m \u001b[38;5;21m_message_generator_v2\u001b[39m(\u001b[38;5;28mself\u001b[39m):\n\u001b[1;32m   1159\u001b[0m     timeout_ms \u001b[38;5;241m=\u001b[39m \u001b[38;5;241m1000\u001b[39m \u001b[38;5;241m*\u001b[39m \u001b[38;5;28mmax\u001b[39m(\u001b[38;5;241m0\u001b[39m, \u001b[38;5;28mself\u001b[39m\u001b[38;5;241m.\u001b[39m_consumer_timeout \u001b[38;5;241m-\u001b[39m time\u001b[38;5;241m.\u001b[39mtime())\n\u001b[0;32m-> 1160\u001b[0m     record_map \u001b[38;5;241m=\u001b[39m \u001b[38;5;28;43mself\u001b[39;49m\u001b[38;5;241;43m.\u001b[39;49m\u001b[43mpoll\u001b[49m\u001b[43m(\u001b[49m\u001b[43mtimeout_ms\u001b[49m\u001b[38;5;241;43m=\u001b[39;49m\u001b[43mtimeout_ms\u001b[49m\u001b[43m,\u001b[49m\u001b[43m \u001b[49m\u001b[43mupdate_offsets\u001b[49m\u001b[38;5;241;43m=\u001b[39;49m\u001b[38;5;28;43;01mFalse\u001b[39;49;00m\u001b[43m)\u001b[49m\n\u001b[1;32m   1161\u001b[0m     \u001b[38;5;28;01mfor\u001b[39;00m tp, records \u001b[38;5;129;01min\u001b[39;00m six\u001b[38;5;241m.\u001b[39miteritems(record_map):\n\u001b[1;32m   1162\u001b[0m         \u001b[38;5;66;03m# Generators are stateful, and it is possible that the tp / records\u001b[39;00m\n\u001b[1;32m   1163\u001b[0m         \u001b[38;5;66;03m# here may become stale during iteration -- i.e., we seek to a\u001b[39;00m\n\u001b[1;32m   1164\u001b[0m         \u001b[38;5;66;03m# different offset, pause consumption, or lose assignment.\u001b[39;00m\n\u001b[1;32m   1165\u001b[0m         \u001b[38;5;28;01mfor\u001b[39;00m record \u001b[38;5;129;01min\u001b[39;00m records:\n\u001b[1;32m   1166\u001b[0m             \u001b[38;5;66;03m# is_fetchable(tp) should handle assignment changes and offset\u001b[39;00m\n\u001b[1;32m   1167\u001b[0m             \u001b[38;5;66;03m# resets; for all other changes (e.g., seeks) we'll rely on the\u001b[39;00m\n\u001b[1;32m   1168\u001b[0m             \u001b[38;5;66;03m# outer function destroying the existing iterator/generator\u001b[39;00m\n\u001b[1;32m   1169\u001b[0m             \u001b[38;5;66;03m# via self._iterator = None\u001b[39;00m\n",
      "File \u001b[0;32m/opt/conda/lib/python3.11/site-packages/kafka/consumer/group.py:684\u001b[0m, in \u001b[0;36mKafkaConsumer.poll\u001b[0;34m(self, timeout_ms, max_records, update_offsets)\u001b[0m\n\u001b[1;32m    682\u001b[0m timer \u001b[38;5;241m=\u001b[39m Timer(timeout_ms)\n\u001b[1;32m    683\u001b[0m \u001b[38;5;28;01mwhile\u001b[39;00m \u001b[38;5;129;01mnot\u001b[39;00m \u001b[38;5;28mself\u001b[39m\u001b[38;5;241m.\u001b[39m_closed:\n\u001b[0;32m--> 684\u001b[0m     records \u001b[38;5;241m=\u001b[39m \u001b[38;5;28;43mself\u001b[39;49m\u001b[38;5;241;43m.\u001b[39;49m\u001b[43m_poll_once\u001b[49m\u001b[43m(\u001b[49m\u001b[43mtimer\u001b[49m\u001b[43m,\u001b[49m\u001b[43m \u001b[49m\u001b[43mmax_records\u001b[49m\u001b[43m,\u001b[49m\u001b[43m \u001b[49m\u001b[43mupdate_offsets\u001b[49m\u001b[38;5;241;43m=\u001b[39;49m\u001b[43mupdate_offsets\u001b[49m\u001b[43m)\u001b[49m\n\u001b[1;32m    685\u001b[0m     \u001b[38;5;28;01mif\u001b[39;00m records:\n\u001b[1;32m    686\u001b[0m         \u001b[38;5;28;01mreturn\u001b[39;00m records\n",
      "File \u001b[0;32m/opt/conda/lib/python3.11/site-packages/kafka/consumer/group.py:731\u001b[0m, in \u001b[0;36mKafkaConsumer._poll_once\u001b[0;34m(self, timer, max_records, update_offsets)\u001b[0m\n\u001b[1;32m    728\u001b[0m     log\u001b[38;5;241m.\u001b[39mdebug(\u001b[38;5;124m'\u001b[39m\u001b[38;5;124mpoll: do not have all fetch positions...\u001b[39m\u001b[38;5;124m'\u001b[39m)\n\u001b[1;32m    729\u001b[0m     poll_timeout_ms \u001b[38;5;241m=\u001b[39m \u001b[38;5;28mmin\u001b[39m(poll_timeout_ms, \u001b[38;5;28mself\u001b[39m\u001b[38;5;241m.\u001b[39mconfig[\u001b[38;5;124m'\u001b[39m\u001b[38;5;124mretry_backoff_ms\u001b[39m\u001b[38;5;124m'\u001b[39m])\n\u001b[0;32m--> 731\u001b[0m \u001b[38;5;28;43mself\u001b[39;49m\u001b[38;5;241;43m.\u001b[39;49m\u001b[43m_client\u001b[49m\u001b[38;5;241;43m.\u001b[39;49m\u001b[43mpoll\u001b[49m\u001b[43m(\u001b[49m\u001b[43mtimeout_ms\u001b[49m\u001b[38;5;241;43m=\u001b[39;49m\u001b[43mpoll_timeout_ms\u001b[49m\u001b[43m)\u001b[49m\n\u001b[1;32m    732\u001b[0m \u001b[38;5;66;03m# after the long poll, we should check whether the group needs to rebalance\u001b[39;00m\n\u001b[1;32m    733\u001b[0m \u001b[38;5;66;03m# prior to returning data so that the group can stabilize faster\u001b[39;00m\n\u001b[1;32m    734\u001b[0m \u001b[38;5;28;01mif\u001b[39;00m \u001b[38;5;28mself\u001b[39m\u001b[38;5;241m.\u001b[39m_coordinator\u001b[38;5;241m.\u001b[39mneed_rejoin():\n",
      "File \u001b[0;32m/opt/conda/lib/python3.11/site-packages/kafka/client_async.py:685\u001b[0m, in \u001b[0;36mKafkaClient.poll\u001b[0;34m(self, timeout_ms, future)\u001b[0m\n\u001b[1;32m    678\u001b[0m         timeout \u001b[38;5;241m=\u001b[39m \u001b[38;5;28mmin\u001b[39m(\n\u001b[1;32m    679\u001b[0m             user_timeout_ms,\n\u001b[1;32m    680\u001b[0m             metadata_timeout_ms,\n\u001b[1;32m    681\u001b[0m             idle_connection_timeout_ms,\n\u001b[1;32m    682\u001b[0m             request_timeout_ms)\n\u001b[1;32m    683\u001b[0m         timeout \u001b[38;5;241m=\u001b[39m \u001b[38;5;28mmax\u001b[39m(\u001b[38;5;241m0\u001b[39m, timeout)  \u001b[38;5;66;03m# avoid negative timeouts\u001b[39;00m\n\u001b[0;32m--> 685\u001b[0m     \u001b[38;5;28;43mself\u001b[39;49m\u001b[38;5;241;43m.\u001b[39;49m\u001b[43m_poll\u001b[49m\u001b[43m(\u001b[49m\u001b[43mtimeout\u001b[49m\u001b[43m \u001b[49m\u001b[38;5;241;43m/\u001b[39;49m\u001b[43m \u001b[49m\u001b[38;5;241;43m1000\u001b[39;49m\u001b[43m)\u001b[49m\n\u001b[1;32m    687\u001b[0m \u001b[38;5;66;03m# called without the lock to avoid deadlock potential\u001b[39;00m\n\u001b[1;32m    688\u001b[0m \u001b[38;5;66;03m# if handlers need to acquire locks\u001b[39;00m\n\u001b[1;32m    689\u001b[0m responses\u001b[38;5;241m.\u001b[39mextend(\u001b[38;5;28mself\u001b[39m\u001b[38;5;241m.\u001b[39m_fire_pending_completed_requests())\n",
      "File \u001b[0;32m/opt/conda/lib/python3.11/site-packages/kafka/client_async.py:728\u001b[0m, in \u001b[0;36mKafkaClient._poll\u001b[0;34m(self, timeout)\u001b[0m\n\u001b[1;32m    725\u001b[0m \u001b[38;5;28mself\u001b[39m\u001b[38;5;241m.\u001b[39m_register_send_sockets()\n\u001b[1;32m    727\u001b[0m start_select \u001b[38;5;241m=\u001b[39m time\u001b[38;5;241m.\u001b[39mtime()\n\u001b[0;32m--> 728\u001b[0m ready \u001b[38;5;241m=\u001b[39m \u001b[38;5;28;43mself\u001b[39;49m\u001b[38;5;241;43m.\u001b[39;49m\u001b[43m_selector\u001b[49m\u001b[38;5;241;43m.\u001b[39;49m\u001b[43mselect\u001b[49m\u001b[43m(\u001b[49m\u001b[43mtimeout\u001b[49m\u001b[43m)\u001b[49m\n\u001b[1;32m    729\u001b[0m end_select \u001b[38;5;241m=\u001b[39m time\u001b[38;5;241m.\u001b[39mtime()\n\u001b[1;32m    730\u001b[0m \u001b[38;5;28;01mif\u001b[39;00m \u001b[38;5;28mself\u001b[39m\u001b[38;5;241m.\u001b[39m_sensors:\n",
      "File \u001b[0;32m/opt/conda/lib/python3.11/selectors.py:468\u001b[0m, in \u001b[0;36mEpollSelector.select\u001b[0;34m(self, timeout)\u001b[0m\n\u001b[1;32m    466\u001b[0m ready \u001b[38;5;241m=\u001b[39m []\n\u001b[1;32m    467\u001b[0m \u001b[38;5;28;01mtry\u001b[39;00m:\n\u001b[0;32m--> 468\u001b[0m     fd_event_list \u001b[38;5;241m=\u001b[39m \u001b[38;5;28mself\u001b[39m\u001b[38;5;241m.\u001b[39m_selector\u001b[38;5;241m.\u001b[39mpoll(timeout, max_ev)\n\u001b[1;32m    469\u001b[0m \u001b[38;5;28;01mexcept\u001b[39;00m \u001b[38;5;167;01mInterruptedError\u001b[39;00m:\n\u001b[1;32m    470\u001b[0m     \u001b[38;5;28;01mreturn\u001b[39;00m ready\n",
      "\u001b[0;31mKeyboardInterrupt\u001b[0m: "
     ]
    }
   ],
   "source": [
    "for message in consumer:\n",
    "    data = message.value\n",
    "    print(\"Mensagem recebida:\", data)\n",
    "    usage_date = data['UsageDate']\n",
    "    usage_date = usage_date.replace(\"-\", \"_\").replace(\"T\", \"_\").replace(\":\", \"_\")\n",
    "    resource = data['ResourceId']\n",
    "    resource = resource.rsplit('/', 1)[-1]\n",
    "\n",
    "    break"
   ]
  },
  {
   "cell_type": "code",
   "execution_count": 49,
   "id": "a13b13b3",
   "metadata": {},
   "outputs": [],
   "source": [
    "# Converter JSON para bytes\n",
    "json_bytes = json.dumps(data).encode('utf-8')\n",
    "json_stream = BytesIO(json_bytes)"
   ]
  },
  {
   "cell_type": "code",
   "execution_count": 50,
   "id": "3bbc0dc4",
   "metadata": {},
   "outputs": [
    {
     "name": "stdout",
     "output_type": "stream",
     "text": [
      "inbound/nintendostorageaccount_2025_07_14_23_48.json enviado com sucesso para o bucket azurecost\n"
     ]
    }
   ],
   "source": [
    "client = Minio(\n",
    "    \"minio:9000\",\n",
    "    access_key=os.getenv('MINIO_ROOT_USER'),\n",
    "    secret_key=os.getenv('MINIO_ROOT_PASSWORD'),\n",
    "    secure=False\n",
    ")\n",
    "\n",
    "\n",
    "bucket_name = \"azurecost\"\n",
    "object_name = f\"inbound/{resource}_{usage_date}.json\"\n",
    "\n",
    "# Crie o bucket se não existir\n",
    "if not client.bucket_exists(bucket_name):\n",
    "    client.make_bucket(bucket_name)\n",
    "\n",
    "# Enviar diretamente da memória\n",
    "client.put_object(\n",
    "    bucket_name=bucket_name,\n",
    "    object_name=object_name,\n",
    "    data=json_stream,\n",
    "    length=len(json_bytes),\n",
    "    content_type=\"application/json\"\n",
    ")\n",
    "\n",
    "print(f\"{object_name} enviado com sucesso para o bucket {bucket_name}\")"
   ]
  }
 ],
 "metadata": {
  "kernelspec": {
   "display_name": "Python 3 (ipykernel)",
   "language": "python",
   "name": "python3"
  }
 },
 "nbformat": 4,
 "nbformat_minor": 5
}
